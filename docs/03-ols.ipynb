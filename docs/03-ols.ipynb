{
 "cells": [
  {
   "cell_type": "markdown",
   "metadata": {},
   "source": [
    "# Linear regression - OLS Model\n",
    "\n",
    "In this section, we will cover:\n",
    "\n",
    "- fitting an OLS linear regression model\n",
    "- score analysis: MSE and variance explained: $R^2$\n",
    "- residual analysis"
   ]
  },
  {
   "cell_type": "code",
   "execution_count": 1,
   "metadata": {},
   "outputs": [],
   "source": [
    "import pandas as pd\n",
    "import numpy as np\n",
    "import pickle\n",
    "import time"
   ]
  },
  {
   "cell_type": "code",
   "execution_count": 2,
   "metadata": {},
   "outputs": [
    {
     "data": {
      "text/html": [
       "<div>\n",
       "<style scoped>\n",
       "    .dataframe tbody tr th:only-of-type {\n",
       "        vertical-align: middle;\n",
       "    }\n",
       "\n",
       "    .dataframe tbody tr th {\n",
       "        vertical-align: top;\n",
       "    }\n",
       "\n",
       "    .dataframe thead th {\n",
       "        text-align: right;\n",
       "    }\n",
       "</style>\n",
       "<table border=\"1\" class=\"dataframe\">\n",
       "  <thead>\n",
       "    <tr style=\"text-align: right;\">\n",
       "      <th></th>\n",
       "      <th>symboling</th>\n",
       "      <th>make</th>\n",
       "      <th>fuel_type</th>\n",
       "      <th>aspiration</th>\n",
       "      <th>num_of_doors</th>\n",
       "      <th>body_style</th>\n",
       "      <th>drive_wheels</th>\n",
       "      <th>engine_location</th>\n",
       "      <th>wheel_base</th>\n",
       "      <th>length</th>\n",
       "      <th>...</th>\n",
       "      <th>engine_size</th>\n",
       "      <th>fuel_system</th>\n",
       "      <th>bore</th>\n",
       "      <th>stroke</th>\n",
       "      <th>compression_ratio</th>\n",
       "      <th>horsepower</th>\n",
       "      <th>peak_rpm</th>\n",
       "      <th>city_mpg</th>\n",
       "      <th>highway_mpg</th>\n",
       "      <th>price</th>\n",
       "    </tr>\n",
       "  </thead>\n",
       "  <tbody>\n",
       "    <tr>\n",
       "      <th>0</th>\n",
       "      <td>0</td>\n",
       "      <td>nissan</td>\n",
       "      <td>gas</td>\n",
       "      <td>std</td>\n",
       "      <td>four</td>\n",
       "      <td>sedan</td>\n",
       "      <td>fwd</td>\n",
       "      <td>front</td>\n",
       "      <td>97.2</td>\n",
       "      <td>173.4</td>\n",
       "      <td>...</td>\n",
       "      <td>120</td>\n",
       "      <td>2bbl</td>\n",
       "      <td>3.33</td>\n",
       "      <td>3.47</td>\n",
       "      <td>8.5</td>\n",
       "      <td>97.0</td>\n",
       "      <td>5200.0</td>\n",
       "      <td>27</td>\n",
       "      <td>34</td>\n",
       "      <td>9549.0</td>\n",
       "    </tr>\n",
       "    <tr>\n",
       "      <th>1</th>\n",
       "      <td>3</td>\n",
       "      <td>volkswagen</td>\n",
       "      <td>gas</td>\n",
       "      <td>std</td>\n",
       "      <td>two</td>\n",
       "      <td>hatchback</td>\n",
       "      <td>fwd</td>\n",
       "      <td>front</td>\n",
       "      <td>94.5</td>\n",
       "      <td>165.7</td>\n",
       "      <td>...</td>\n",
       "      <td>109</td>\n",
       "      <td>mpfi</td>\n",
       "      <td>3.19</td>\n",
       "      <td>3.40</td>\n",
       "      <td>8.5</td>\n",
       "      <td>90.0</td>\n",
       "      <td>5500.0</td>\n",
       "      <td>24</td>\n",
       "      <td>29</td>\n",
       "      <td>9980.0</td>\n",
       "    </tr>\n",
       "    <tr>\n",
       "      <th>2</th>\n",
       "      <td>1</td>\n",
       "      <td>bmw</td>\n",
       "      <td>gas</td>\n",
       "      <td>std</td>\n",
       "      <td>four</td>\n",
       "      <td>sedan</td>\n",
       "      <td>rwd</td>\n",
       "      <td>front</td>\n",
       "      <td>103.5</td>\n",
       "      <td>189.0</td>\n",
       "      <td>...</td>\n",
       "      <td>164</td>\n",
       "      <td>mpfi</td>\n",
       "      <td>3.31</td>\n",
       "      <td>3.19</td>\n",
       "      <td>9.0</td>\n",
       "      <td>121.0</td>\n",
       "      <td>4250.0</td>\n",
       "      <td>20</td>\n",
       "      <td>25</td>\n",
       "      <td>24565.0</td>\n",
       "    </tr>\n",
       "    <tr>\n",
       "      <th>3</th>\n",
       "      <td>2</td>\n",
       "      <td>subaru</td>\n",
       "      <td>gas</td>\n",
       "      <td>std</td>\n",
       "      <td>two</td>\n",
       "      <td>hatchback</td>\n",
       "      <td>fwd</td>\n",
       "      <td>front</td>\n",
       "      <td>93.7</td>\n",
       "      <td>156.9</td>\n",
       "      <td>...</td>\n",
       "      <td>97</td>\n",
       "      <td>2bbl</td>\n",
       "      <td>3.62</td>\n",
       "      <td>2.36</td>\n",
       "      <td>9.0</td>\n",
       "      <td>69.0</td>\n",
       "      <td>4900.0</td>\n",
       "      <td>31</td>\n",
       "      <td>36</td>\n",
       "      <td>5118.0</td>\n",
       "    </tr>\n",
       "    <tr>\n",
       "      <th>4</th>\n",
       "      <td>0</td>\n",
       "      <td>mazda</td>\n",
       "      <td>diesel</td>\n",
       "      <td>std</td>\n",
       "      <td>four</td>\n",
       "      <td>sedan</td>\n",
       "      <td>rwd</td>\n",
       "      <td>front</td>\n",
       "      <td>104.9</td>\n",
       "      <td>175.0</td>\n",
       "      <td>...</td>\n",
       "      <td>134</td>\n",
       "      <td>idi</td>\n",
       "      <td>3.43</td>\n",
       "      <td>3.64</td>\n",
       "      <td>22.0</td>\n",
       "      <td>72.0</td>\n",
       "      <td>4200.0</td>\n",
       "      <td>31</td>\n",
       "      <td>39</td>\n",
       "      <td>18344.0</td>\n",
       "    </tr>\n",
       "  </tbody>\n",
       "</table>\n",
       "<p>5 rows × 25 columns</p>\n",
       "</div>"
      ],
      "text/plain": [
       "   symboling        make fuel_type aspiration num_of_doors body_style  \\\n",
       "0          0      nissan       gas        std         four      sedan   \n",
       "1          3  volkswagen       gas        std          two  hatchback   \n",
       "2          1         bmw       gas        std         four      sedan   \n",
       "3          2      subaru       gas        std          two  hatchback   \n",
       "4          0       mazda    diesel        std         four      sedan   \n",
       "\n",
       "  drive_wheels engine_location  wheel_base  length  ...  engine_size  \\\n",
       "0          fwd           front        97.2   173.4  ...          120   \n",
       "1          fwd           front        94.5   165.7  ...          109   \n",
       "2          rwd           front       103.5   189.0  ...          164   \n",
       "3          fwd           front        93.7   156.9  ...           97   \n",
       "4          rwd           front       104.9   175.0  ...          134   \n",
       "\n",
       "   fuel_system  bore stroke compression_ratio  horsepower peak_rpm  city_mpg  \\\n",
       "0         2bbl  3.33   3.47               8.5        97.0   5200.0        27   \n",
       "1         mpfi  3.19   3.40               8.5        90.0   5500.0        24   \n",
       "2         mpfi  3.31   3.19               9.0       121.0   4250.0        20   \n",
       "3         2bbl  3.62   2.36               9.0        69.0   4900.0        31   \n",
       "4          idi  3.43   3.64              22.0        72.0   4200.0        31   \n",
       "\n",
       "   highway_mpg    price  \n",
       "0           34   9549.0  \n",
       "1           29   9980.0  \n",
       "2           25  24565.0  \n",
       "3           36   5118.0  \n",
       "4           39  18344.0  \n",
       "\n",
       "[5 rows x 25 columns]"
      ]
     },
     "execution_count": 2,
     "metadata": {},
     "output_type": "execute_result"
    }
   ],
   "source": [
    "df = pd.read_csv('data/df_resample.csv')\n",
    "df.head()"
   ]
  },
  {
   "cell_type": "code",
   "execution_count": 3,
   "metadata": {},
   "outputs": [
    {
     "name": "stdout",
     "output_type": "stream",
     "text": [
      "<class 'pandas.core.frame.DataFrame'>\n",
      "RangeIndex: 10000 entries, 0 to 9999\n",
      "Data columns (total 25 columns):\n",
      " #   Column             Non-Null Count  Dtype  \n",
      "---  ------             --------------  -----  \n",
      " 0   symboling          10000 non-null  int64  \n",
      " 1   make               10000 non-null  object \n",
      " 2   fuel_type          10000 non-null  object \n",
      " 3   aspiration         10000 non-null  object \n",
      " 4   num_of_doors       10000 non-null  object \n",
      " 5   body_style         10000 non-null  object \n",
      " 6   drive_wheels       10000 non-null  object \n",
      " 7   engine_location    10000 non-null  object \n",
      " 8   wheel_base         10000 non-null  float64\n",
      " 9   length             10000 non-null  float64\n",
      " 10  width              10000 non-null  float64\n",
      " 11  height             10000 non-null  float64\n",
      " 12  curb_weight        10000 non-null  int64  \n",
      " 13  engine_type        10000 non-null  object \n",
      " 14  num_of_cylinders   10000 non-null  object \n",
      " 15  engine_size        10000 non-null  int64  \n",
      " 16  fuel_system        10000 non-null  object \n",
      " 17  bore               10000 non-null  float64\n",
      " 18  stroke             10000 non-null  float64\n",
      " 19  compression_ratio  10000 non-null  float64\n",
      " 20  horsepower         10000 non-null  float64\n",
      " 21  peak_rpm           10000 non-null  float64\n",
      " 22  city_mpg           10000 non-null  int64  \n",
      " 23  highway_mpg        10000 non-null  int64  \n",
      " 24  price              10000 non-null  float64\n",
      "dtypes: float64(10), int64(5), object(10)\n",
      "memory usage: 1.9+ MB\n"
     ]
    }
   ],
   "source": [
    "df.info()"
   ]
  },
  {
   "cell_type": "markdown",
   "metadata": {},
   "source": [
    "## Train-test split\n",
    "\n",
    "To avoid overfitting, we will split our data on train and test sets.\n",
    "\n",
    "The model will be trained with the train dataset and later we will evaluate it with the test set.\n"
   ]
  },
  {
   "cell_type": "code",
   "execution_count": 4,
   "metadata": {},
   "outputs": [],
   "source": [
    "from sklearn.model_selection import train_test_split\n",
    "\n",
    "X = df.copy()\n",
    "X.drop('price', axis=1, inplace=True)\n",
    "y = np.log(df.price) # as discussed, we are going to use the log transformation here\n",
    "\n",
    "X_train, X_test, y_train, y_test = train_test_split(\n",
    "    X, y, test_size=.3, random_state=95276\n",
    ")"
   ]
  },
  {
   "cell_type": "markdown",
   "metadata": {},
   "source": [
    "## Feature Selection\n",
    "\n",
    "It is very important to carefully chose which features will be included into the model, because:\n",
    "\n",
    "- including unnecessary features increases the standard error of the coefficients\n",
    "- excluding necessary features results in bias\n",
    "\n",
    "### Selection through correlation\n",
    "\n",
    "As we want start trying out linear regression models, we will select features that have linear correlation with the dependent variable price.\n"
   ]
  },
  {
   "cell_type": "code",
   "execution_count": 5,
   "metadata": {},
   "outputs": [
    {
     "data": {
      "text/plain": [
       "['wheel_base',\n",
       " 'length',\n",
       " 'width',\n",
       " 'height',\n",
       " 'curb_weight',\n",
       " 'engine_size',\n",
       " 'bore',\n",
       " 'stroke',\n",
       " 'compression_ratio',\n",
       " 'horsepower',\n",
       " 'peak_rpm',\n",
       " 'city_mpg',\n",
       " 'highway_mpg']"
      ]
     },
     "execution_count": 5,
     "metadata": {},
     "output_type": "execute_result"
    }
   ],
   "source": [
    "# categorical features\n",
    "with open('data/category_list', 'rb') as file:\n",
    "    cat_cols = pickle.load(file)\n",
    "\n",
    "# numeric columns\n",
    "num_cols = [col for col in X_train.columns if col not in cat_cols]\n",
    "num_cols"
   ]
  },
  {
   "cell_type": "code",
   "execution_count": 6,
   "metadata": {},
   "outputs": [
    {
     "name": "stderr",
     "output_type": "stream",
     "text": [
      "C:\\Users\\BJ571WQ\\Anaconda3\\lib\\site-packages\\ipykernel_launcher.py:1: SettingWithCopyWarning: \n",
      "A value is trying to be set on a copy of a slice from a DataFrame.\n",
      "Try using .loc[row_indexer,col_indexer] = value instead\n",
      "\n",
      "See the caveats in the documentation: https://pandas.pydata.org/pandas-docs/stable/user_guide/indexing.html#returning-a-view-versus-a-copy\n",
      "  \"\"\"Entry point for launching an IPython kernel.\n"
     ]
    },
    {
     "data": {
      "text/plain": [
       "bore           0.590618\n",
       "wheel_base     0.637270\n",
       "length         0.780432\n",
       "city_mpg       0.785230\n",
       "highway_mpg    0.788294\n",
       "width          0.803110\n",
       "horsepower     0.827188\n",
       "engine_size    0.844736\n",
       "curb_weight    0.895085\n",
       "price          1.000000\n",
       "Name: price, dtype: float64"
      ]
     },
     "execution_count": 6,
     "metadata": {},
     "output_type": "execute_result"
    }
   ],
   "source": [
    "X_train['price'] = y_train\n",
    "cols = num_cols + ['price']\n",
    "cor = X_train[cols].corr().abs()\n",
    "cor.loc[cor.price > .5, 'price'].sort_values()"
   ]
  },
  {
   "cell_type": "code",
   "execution_count": 7,
   "metadata": {},
   "outputs": [
    {
     "name": "stdout",
     "output_type": "stream",
     "text": [
      "correlated:  Index(['bore', 'wheel_base', 'length', 'city_mpg', 'highway_mpg', 'width',\n",
      "       'horsepower', 'engine_size', 'curb_weight'],\n",
      "      dtype='object')\n",
      "not correlated:  ['height', 'stroke', 'compression_ratio', 'peak_rpm']\n"
     ]
    }
   ],
   "source": [
    "mask = (cor.price > .5 ) & (cor.price < 1)\n",
    "correlated = cor[mask].sort_values(by='price').index\n",
    "not_correlated = [col for col in num_cols if col not in correlated]\n",
    "\n",
    "print('correlated: ', correlated)\n",
    "print('not correlated: ', not_correlated)"
   ]
  },
  {
   "cell_type": "markdown",
   "metadata": {},
   "source": [
    "## Fitting the model\n",
    "### Formula for OLS"
   ]
  },
  {
   "cell_type": "code",
   "execution_count": 8,
   "metadata": {},
   "outputs": [
    {
     "data": {
      "text/plain": [
       "'price ~ C(make) + C(fuel_type) + C(aspiration) + C(num_of_doors) + C(body_style) + C(drive_wheels) + C(engine_location) + C(engine_type) + C(num_of_cylinders) + C(fuel_system) + C(symboling) + bore + wheel_base + length + city_mpg + highway_mpg + width + horsepower + engine_size + curb_weight'"
      ]
     },
     "execution_count": 8,
     "metadata": {},
     "output_type": "execute_result"
    }
   ],
   "source": [
    "cat_list = [f'C({cat})' for cat in cat_cols]\n",
    "cat_formula = ' + '.join(cat_list)\n",
    "num_formula = ' + '.join(correlated)\n",
    "\n",
    "formula = f'price ~ {cat_formula} + {num_formula}'\n",
    "formula"
   ]
  },
  {
   "cell_type": "code",
   "execution_count": 9,
   "metadata": {},
   "outputs": [
    {
     "name": "stdout",
     "output_type": "stream",
     "text": [
      "                            OLS Regression Results                            \n",
      "==============================================================================\n",
      "Dep. Variable:                  price   R-squared:                       0.969\n",
      "Model:                            OLS   Adj. R-squared:                  0.969\n",
      "Method:                 Least Squares   F-statistic:                     3976.\n",
      "Date:                Tue, 08 Sep 2020   Prob (F-statistic):               0.00\n",
      "Time:                        16:41:56   Log-Likelihood:                 7096.2\n",
      "No. Observations:                7000   AIC:                        -1.408e+04\n",
      "Df Residuals:                    6944   BIC:                        -1.370e+04\n",
      "Df Model:                          55                                         \n",
      "Covariance Type:            nonrobust                                         \n",
      "=================================================================================================\n",
      "                                    coef    std err          t      P>|t|      [0.025      0.975]\n",
      "-------------------------------------------------------------------------------------------------\n",
      "Intercept                         4.7194      0.071     66.565      0.000       4.580       4.858\n",
      "C(make)[T.audi]                   0.3223      0.019     16.807      0.000       0.285       0.360\n",
      "C(make)[T.bmw]                    0.3656      0.018     20.808      0.000       0.331       0.400\n",
      "C(make)[T.chevrolet]             -0.0854      0.018     -4.718      0.000      -0.121      -0.050\n",
      "C(make)[T.dodge]                 -0.1320      0.014     -9.546      0.000      -0.159      -0.105\n",
      "C(make)[T.honda]                  0.1660      0.017      9.787      0.000       0.133       0.199\n",
      "C(make)[T.isuzu]                 -0.4436      0.020    -22.238      0.000      -0.483      -0.405\n",
      "C(make)[T.jaguar]                -0.1599      0.021     -7.591      0.000      -0.201      -0.119\n",
      "C(make)[T.mazda]                 -0.0011      0.014     -0.084      0.933      -0.028       0.025\n",
      "C(make)[T.mercedes-benz]         -0.0189      0.020     -0.942      0.346      -0.058       0.020\n",
      "C(make)[T.mercury]               -0.0778      0.023     -3.320      0.001      -0.124      -0.032\n",
      "C(make)[T.mitsubishi]            -0.1376      0.014     -9.711      0.000      -0.165      -0.110\n",
      "C(make)[T.nissan]                 0.0138      0.013      1.062      0.288      -0.012       0.039\n",
      "C(make)[T.peugot]                -0.2821      0.016    -18.150      0.000      -0.313      -0.252\n",
      "C(make)[T.plymouth]              -0.1657      0.014    -12.015      0.000      -0.193      -0.139\n",
      "C(make)[T.porsche]                0.3364      0.022     14.997      0.000       0.292       0.380\n",
      "C(make)[T.saab]                   0.1741      0.016     10.705      0.000       0.142       0.206\n",
      "C(make)[T.subaru]                -0.1974      0.013    -14.770      0.000      -0.224      -0.171\n",
      "C(make)[T.toyota]                -0.1405      0.013    -11.237      0.000      -0.165      -0.116\n",
      "C(make)[T.volkswagen]            -0.0154      0.014     -1.066      0.286      -0.044       0.013\n",
      "C(make)[T.volvo]                 -0.0357      0.016     -2.168      0.030      -0.068      -0.003\n",
      "C(fuel_type)[T.gas]               2.2407      0.035     63.510      0.000       2.172       2.310\n",
      "C(aspiration)[T.turbo]            0.1349      0.006     21.058      0.000       0.122       0.147\n",
      "C(num_of_doors)[T.two]           -0.0474      0.004    -10.734      0.000      -0.056      -0.039\n",
      "C(body_style)[T.hardtop]         -0.1464      0.010    -14.358      0.000      -0.166      -0.126\n",
      "C(body_style)[T.hatchback]       -0.1858      0.009    -20.640      0.000      -0.203      -0.168\n",
      "C(body_style)[T.sedan]           -0.1872      0.010    -19.010      0.000      -0.207      -0.168\n",
      "C(body_style)[T.wagon]           -0.2630      0.010    -25.327      0.000      -0.283      -0.243\n",
      "C(drive_wheels)[T.rwd]            0.1927      0.007     29.121      0.000       0.180       0.206\n",
      "C(engine_location)[T.rear]        0.2984      0.016     18.586      0.000       0.267       0.330\n",
      "C(engine_type)[T.l]              -0.1144      0.014     -8.401      0.000      -0.141      -0.088\n",
      "C(engine_type)[T.ohc]            -0.0648      0.009     -7.108      0.000      -0.083      -0.047\n",
      "C(engine_type)[T.ohcf]            0.1011      0.008     12.244      0.000       0.085       0.117\n",
      "C(engine_type)[T.ohcv]           -0.1056      0.011    -10.014      0.000      -0.126      -0.085\n",
      "C(num_of_cylinders)[T.five]      -0.1452      0.024     -6.137      0.000      -0.192      -0.099\n",
      "C(num_of_cylinders)[T.four]      -0.0754      0.029     -2.586      0.010      -0.133      -0.018\n",
      "C(num_of_cylinders)[T.six]       -0.1888      0.022     -8.633      0.000      -0.232      -0.146\n",
      "C(num_of_cylinders)[T.three]      0.1677      0.024      6.972      0.000       0.121       0.215\n",
      "C(num_of_cylinders)[T.twelve]    -0.0545      0.030     -1.803      0.071      -0.114       0.005\n",
      "C(fuel_system)[T.2bbl]            0.2087      0.012     17.444      0.000       0.185       0.232\n",
      "C(fuel_system)[T.idi]             2.4787      0.037     67.266      0.000       2.406       2.551\n",
      "C(fuel_system)[T.mfi]             0.2890      0.022     13.203      0.000       0.246       0.332\n",
      "C(fuel_system)[T.mpfi]            0.2880      0.012     23.062      0.000       0.263       0.312\n",
      "C(fuel_system)[T.spdi]            0.2471      0.015     16.480      0.000       0.218       0.276\n",
      "C(fuel_system)[T.spfi]            0.5898      0.025     23.329      0.000       0.540       0.639\n",
      "C(symboling)[T.-1]                0.1008      0.011      9.326      0.000       0.080       0.122\n",
      "C(symboling)[T.0]                 0.1112      0.012      9.220      0.000       0.088       0.135\n",
      "C(symboling)[T.1]                 0.0327      0.013      2.581      0.010       0.008       0.058\n",
      "C(symboling)[T.2]              2.929e-05      0.013      0.002      0.998      -0.026       0.026\n",
      "C(symboling)[T.3]                 0.0828      0.014      5.826      0.000       0.055       0.111\n",
      "bore                             -0.1834      0.015    -12.535      0.000      -0.212      -0.155\n",
      "wheel_base                        0.0084      0.001     11.295      0.000       0.007       0.010\n",
      "length                           -0.0045      0.000    -10.618      0.000      -0.005      -0.004\n",
      "city_mpg                         -0.0178      0.001    -15.892      0.000      -0.020      -0.016\n",
      "highway_mpg                       0.0131      0.001     13.579      0.000       0.011       0.015\n",
      "width                             0.0231      0.002     11.809      0.000       0.019       0.027\n",
      "horsepower                       -0.0002      0.000     -0.887      0.375      -0.001       0.000\n",
      "engine_size                       0.0022      0.000     10.676      0.000       0.002       0.003\n",
      "curb_weight                       0.0005   1.25e-05     37.256      0.000       0.000       0.000\n",
      "==============================================================================\n",
      "Omnibus:                        5.085   Durbin-Watson:                   1.999\n",
      "Prob(Omnibus):                  0.079   Jarque-Bera (JB):                5.197\n",
      "Skew:                          -0.044   Prob(JB):                       0.0744\n",
      "Kurtosis:                       3.100   Cond. No.                     1.02e+16\n",
      "==============================================================================\n",
      "\n",
      "Warnings:\n",
      "[1] Standard Errors assume that the covariance matrix of the errors is correctly specified.\n",
      "[2] The smallest eigenvalue is 4.65e-22. This might indicate that there are\n",
      "strong multicollinearity problems or that the design matrix is singular.\n"
     ]
    }
   ],
   "source": [
    "import statsmodels.formula.api as smf\n",
    "\n",
    "model = smf.ols(formula=formula, data=X_train)\n",
    "res = model.fit()\n",
    "print(res.summary())"
   ]
  },
  {
   "cell_type": "markdown",
   "metadata": {},
   "source": [
    "## More feature selection: p-values\n",
    "\n",
    "When we fit a linear regression model, we have to test the hypothesis that the evaluated coefficient for a given regressor is actually zero, meaning we don't need that regressor at all.\n",
    "\n",
    "In other words, we have:\n",
    "\n",
    "- $H_0$: the coefficient is zero\n",
    "- $H_1$: the coefficient is not zero\n",
    "\n",
    "Therefore, let's look into the p-values for each coefficient for each regressor to understand if they should be zero:\n",
    "\n",
    "*if a p-value of a given coefficient is larger than 5%, then we fail to reject the null hypothesis that the coefficient actually is zero*"
   ]
  },
  {
   "cell_type": "code",
   "execution_count": 10,
   "metadata": {},
   "outputs": [
    {
     "data": {
      "text/plain": [
       "C(make)[T.mazda]                 0.932911\n",
       "C(make)[T.mercedes-benz]         0.346465\n",
       "C(make)[T.nissan]                0.288217\n",
       "C(make)[T.volkswagen]            0.286270\n",
       "C(num_of_cylinders)[T.twelve]    0.071427\n",
       "C(symboling)[T.2]                0.998247\n",
       "horsepower                       0.375116\n",
       "dtype: float64"
      ]
     },
     "execution_count": 10,
     "metadata": {},
     "output_type": "execute_result"
    }
   ],
   "source": [
    "res.pvalues[res.pvalues > .05]\n",
    "# we are not taking out make just because a few rotten apples"
   ]
  },
  {
   "cell_type": "markdown",
   "metadata": {},
   "source": [
    "\n",
    "As we can see, the p-values for some makers are larger than 5%. We are not removing this feature.\n",
    "\n",
    "On the other hand, hypothesis testing for variable horsepower coefficient shows it could be zero.\n",
    "\n",
    "Therefore, lets remove this feature and fit the model again:"
   ]
  },
  {
   "cell_type": "code",
   "execution_count": 11,
   "metadata": {},
   "outputs": [
    {
     "name": "stdout",
     "output_type": "stream",
     "text": [
      "                            OLS Regression Results                            \n",
      "==============================================================================\n",
      "Dep. Variable:                  price   R-squared:                       0.969\n",
      "Model:                            OLS   Adj. R-squared:                  0.969\n",
      "Method:                 Least Squares   F-statistic:                     4050.\n",
      "Date:                Tue, 08 Sep 2020   Prob (F-statistic):               0.00\n",
      "Time:                        16:41:57   Log-Likelihood:                 7095.8\n",
      "No. Observations:                7000   AIC:                        -1.408e+04\n",
      "Df Residuals:                    6945   BIC:                        -1.370e+04\n",
      "Df Model:                          54                                         \n",
      "Covariance Type:            nonrobust                                         \n",
      "=================================================================================================\n",
      "                                    coef    std err          t      P>|t|      [0.025      0.975]\n",
      "-------------------------------------------------------------------------------------------------\n",
      "Intercept                         4.7214      0.071     66.632      0.000       4.583       4.860\n",
      "C(make)[T.audi]                   0.3190      0.019     16.970      0.000       0.282       0.356\n",
      "C(make)[T.bmw]                    0.3628      0.017     20.991      0.000       0.329       0.397\n",
      "C(make)[T.chevrolet]             -0.0893      0.018     -5.095      0.000      -0.124      -0.055\n",
      "C(make)[T.dodge]                 -0.1344      0.014     -9.895      0.000      -0.161      -0.108\n",
      "C(make)[T.honda]                  0.1620      0.016      9.903      0.000       0.130       0.194\n",
      "C(make)[T.isuzu]                 -0.4441      0.020    -22.269      0.000      -0.483      -0.405\n",
      "C(make)[T.jaguar]                -0.1556      0.021     -7.591      0.000      -0.196      -0.115\n",
      "C(make)[T.mazda]                 -0.0030      0.013     -0.227      0.821      -0.029       0.023\n",
      "C(make)[T.mercedes-benz]         -0.0196      0.020     -0.980      0.327      -0.059       0.020\n",
      "C(make)[T.mercury]               -0.0852      0.022     -3.889      0.000      -0.128      -0.042\n",
      "C(make)[T.mitsubishi]            -0.1401      0.014    -10.097      0.000      -0.167      -0.113\n",
      "C(make)[T.nissan]                 0.0110      0.013      0.869      0.385      -0.014       0.036\n",
      "C(make)[T.peugot]                -0.2786      0.015    -18.557      0.000      -0.308      -0.249\n",
      "C(make)[T.plymouth]              -0.1678      0.014    -12.348      0.000      -0.194      -0.141\n",
      "C(make)[T.porsche]                0.3321      0.022     15.155      0.000       0.289       0.375\n",
      "C(make)[T.saab]                   0.1705      0.016     10.833      0.000       0.140       0.201\n",
      "C(make)[T.subaru]                -0.1956      0.013    -14.798      0.000      -0.222      -0.170\n",
      "C(make)[T.toyota]                -0.1422      0.012    -11.502      0.000      -0.166      -0.118\n",
      "C(make)[T.volkswagen]            -0.0176      0.014     -1.236      0.217      -0.046       0.010\n",
      "C(make)[T.volvo]                 -0.0372      0.016     -2.277      0.023      -0.069      -0.005\n",
      "C(fuel_type)[T.gas]               2.2405      0.035     63.507      0.000       2.171       2.310\n",
      "C(aspiration)[T.turbo]            0.1312      0.005     26.932      0.000       0.122       0.141\n",
      "C(num_of_doors)[T.two]           -0.0475      0.004    -10.755      0.000      -0.056      -0.039\n",
      "C(body_style)[T.hardtop]         -0.1471      0.010    -14.469      0.000      -0.167      -0.127\n",
      "C(body_style)[T.hatchback]       -0.1869      0.009    -20.948      0.000      -0.204      -0.169\n",
      "C(body_style)[T.sedan]           -0.1883      0.010    -19.255      0.000      -0.207      -0.169\n",
      "C(body_style)[T.wagon]           -0.2639      0.010    -25.553      0.000      -0.284      -0.244\n",
      "C(drive_wheels)[T.rwd]            0.1912      0.006     29.961      0.000       0.179       0.204\n",
      "C(engine_location)[T.rear]        0.2957      0.016     18.758      0.000       0.265       0.327\n",
      "C(engine_type)[T.l]              -0.1142      0.014     -8.387      0.000      -0.141      -0.088\n",
      "C(engine_type)[T.ohc]            -0.0610      0.008     -7.567      0.000      -0.077      -0.045\n",
      "C(engine_type)[T.ohcf]            0.1001      0.008     12.235      0.000       0.084       0.116\n",
      "C(engine_type)[T.ohcv]           -0.1038      0.010    -10.035      0.000      -0.124      -0.084\n",
      "C(num_of_cylinders)[T.five]      -0.1495      0.023     -6.460      0.000      -0.195      -0.104\n",
      "C(num_of_cylinders)[T.four]      -0.0816      0.028     -2.880      0.004      -0.137      -0.026\n",
      "C(num_of_cylinders)[T.six]       -0.1940      0.021     -9.207      0.000      -0.235      -0.153\n",
      "C(num_of_cylinders)[T.three]      0.1644      0.024      6.919      0.000       0.118       0.211\n",
      "C(num_of_cylinders)[T.twelve]    -0.0667      0.027     -2.471      0.013      -0.120      -0.014\n",
      "C(fuel_system)[T.2bbl]            0.2077      0.012     17.438      0.000       0.184       0.231\n",
      "C(fuel_system)[T.idi]             2.4809      0.037     67.489      0.000       2.409       2.553\n",
      "C(fuel_system)[T.mfi]             0.2865      0.022     13.199      0.000       0.244       0.329\n",
      "C(fuel_system)[T.mpfi]            0.2854      0.012     23.486      0.000       0.262       0.309\n",
      "C(fuel_system)[T.spdi]            0.2449      0.015     16.551      0.000       0.216       0.274\n",
      "C(fuel_system)[T.spfi]            0.5884      0.025     23.320      0.000       0.539       0.638\n",
      "C(symboling)[T.-1]                0.1024      0.011      9.598      0.000       0.081       0.123\n",
      "C(symboling)[T.0]                 0.1131      0.012      9.544      0.000       0.090       0.136\n",
      "C(symboling)[T.1]                 0.0352      0.012      2.839      0.005       0.011       0.059\n",
      "C(symboling)[T.2]                 0.0023      0.013      0.179      0.858      -0.023       0.028\n",
      "C(symboling)[T.3]                 0.0857      0.014      6.180      0.000       0.058       0.113\n",
      "bore                             -0.1812      0.014    -12.565      0.000      -0.210      -0.153\n",
      "wheel_base                        0.0085      0.001     11.698      0.000       0.007       0.010\n",
      "length                           -0.0045      0.000    -10.611      0.000      -0.005      -0.004\n",
      "city_mpg                         -0.0176      0.001    -16.130      0.000      -0.020      -0.015\n",
      "highway_mpg                       0.0130      0.001     13.570      0.000       0.011       0.015\n",
      "width                             0.0228      0.002     11.846      0.000       0.019       0.027\n",
      "engine_size                       0.0021      0.000     11.974      0.000       0.002       0.002\n",
      "curb_weight                       0.0005   1.25e-05     37.323      0.000       0.000       0.000\n",
      "==============================================================================\n",
      "Omnibus:                        4.426   Durbin-Watson:                   1.999\n",
      "Prob(Omnibus):                  0.109   Jarque-Bera (JB):                4.512\n",
      "Skew:                          -0.040   Prob(JB):                        0.105\n",
      "Kurtosis:                       3.095   Cond. No.                     1.02e+16\n",
      "==============================================================================\n",
      "\n",
      "Warnings:\n",
      "[1] Standard Errors assume that the covariance matrix of the errors is correctly specified.\n",
      "[2] The smallest eigenvalue is 4.64e-22. This might indicate that there are\n",
      "strong multicollinearity problems or that the design matrix is singular.\n"
     ]
    }
   ],
   "source": [
    "correlated = correlated.tolist()\n",
    "correlated.remove('horsepower')\n",
    "num_formula = ' + '.join(correlated)\n",
    "\n",
    "formula = f'price ~ {cat_formula} + {num_formula}'\n",
    "\n",
    "start = time.time()\n",
    "model = smf.ols(formula=formula, data=X_train)\n",
    "res = model.fit()\n",
    "stop = time.time()\n",
    "elapsed = stop - start\n",
    "\n",
    "print(res.summary())"
   ]
  },
  {
   "cell_type": "code",
   "execution_count": 12,
   "metadata": {},
   "outputs": [
    {
     "data": {
      "text/plain": [
       "C(make)[T.mazda]            0.820602\n",
       "C(make)[T.mercedes-benz]    0.327119\n",
       "C(make)[T.nissan]           0.385010\n",
       "C(make)[T.volkswagen]       0.216545\n",
       "C(symboling)[T.2]           0.857865\n",
       "dtype: float64"
      ]
     },
     "execution_count": 12,
     "metadata": {},
     "output_type": "execute_result"
    }
   ],
   "source": [
    "res.pvalues[res.pvalues > .05]"
   ]
  },
  {
   "cell_type": "markdown",
   "metadata": {},
   "source": [
    "Now we are done with feature selection."
   ]
  },
  {
   "cell_type": "markdown",
   "metadata": {},
   "source": [
    "## Model Scoring & Evaluation"
   ]
  },
  {
   "cell_type": "code",
   "execution_count": 13,
   "metadata": {},
   "outputs": [
    {
     "name": "stdout",
     "output_type": "stream",
     "text": [
      "R^2: 0.969\n",
      "MSE: 2.175e+06\n"
     ]
    }
   ],
   "source": [
    "r2 = res.rsquared_adj\n",
    "\n",
    "predictions = np.exp(res.predict(X_test)) # back transformation\n",
    "mse = np.mean(\n",
    "    (predictions - np.exp(y_test))**2\n",
    ")\n",
    "\n",
    "print(f'R^2: {r2:.4}')\n",
    "print(f'MSE: {mse:.4}')"
   ]
  },
  {
   "cell_type": "code",
   "execution_count": 14,
   "metadata": {},
   "outputs": [
    {
     "data": {
      "text/html": [
       "<div>\n",
       "<style scoped>\n",
       "    .dataframe tbody tr th:only-of-type {\n",
       "        vertical-align: middle;\n",
       "    }\n",
       "\n",
       "    .dataframe tbody tr th {\n",
       "        vertical-align: top;\n",
       "    }\n",
       "\n",
       "    .dataframe thead th {\n",
       "        text-align: right;\n",
       "    }\n",
       "</style>\n",
       "<table border=\"1\" class=\"dataframe\">\n",
       "  <thead>\n",
       "    <tr style=\"text-align: right;\">\n",
       "      <th></th>\n",
       "      <th>model name</th>\n",
       "      <th>r2</th>\n",
       "      <th>MSE</th>\n",
       "      <th>time</th>\n",
       "    </tr>\n",
       "  </thead>\n",
       "  <tbody>\n",
       "    <tr>\n",
       "      <th>0</th>\n",
       "      <td>ols</td>\n",
       "      <td>0.968982</td>\n",
       "      <td>2.175057e+06</td>\n",
       "      <td>0.363137</td>\n",
       "    </tr>\n",
       "  </tbody>\n",
       "</table>\n",
       "</div>"
      ],
      "text/plain": [
       "  model name        r2           MSE      time\n",
       "0        ols  0.968982  2.175057e+06  0.363137"
      ]
     },
     "execution_count": 14,
     "metadata": {},
     "output_type": "execute_result"
    }
   ],
   "source": [
    "data = {\n",
    "    'model name': ['ols'],\n",
    "    'r2': [r2],\n",
    "    'MSE': [mse],\n",
    "    'time': elapsed\n",
    "       }\n",
    "\n",
    "score_df = pd.DataFrame(data)\n",
    "score_df.to_csv('data/scores.csv', index=False)\n",
    "score_df"
   ]
  },
  {
   "cell_type": "markdown",
   "metadata": {},
   "source": [
    "\n",
    "\n",
    "## Residual analysis\n",
    "\n",
    "In a good model, we should expect that the residuals:\n",
    "\n",
    "- have mean zero\n",
    "- to be homoscedastic\n",
    "- to be normal\n",
    "- to have no correlation with the fitted values\n",
    "- to have no correlation with any of the features"
   ]
  },
  {
   "cell_type": "markdown",
   "metadata": {},
   "source": [
    "### Residual mean"
   ]
  },
  {
   "cell_type": "code",
   "execution_count": 15,
   "metadata": {},
   "outputs": [
    {
     "data": {
      "text/plain": [
       "-2.431832513138943e-15"
      ]
     },
     "execution_count": 15,
     "metadata": {},
     "output_type": "execute_result"
    }
   ],
   "source": [
    "res.resid.mean() # good!"
   ]
  },
  {
   "cell_type": "markdown",
   "metadata": {},
   "source": [
    "### Residuals vs fitted values"
   ]
  },
  {
   "cell_type": "code",
   "execution_count": 16,
   "metadata": {},
   "outputs": [
    {
     "data": {
      "text/plain": [
       "<matplotlib.legend.Legend at 0x27afa2eeac8>"
      ]
     },
     "execution_count": 16,
     "metadata": {},
     "output_type": "execute_result"
    },
    {
     "data": {
      "image/png": "[encoded data removed]",
      "text/plain": [
       "<Figure size 864x360 with 1 Axes>"
      ]
     },
     "metadata": {
      "needs_background": "light"
     },
     "output_type": "display_data"
    }
   ],
   "source": [
    "from numpy.polynomial.polynomial import polyfit\n",
    "import matplotlib.pyplot as plt\n",
    "\n",
    "%matplotlib inline\n",
    "\n",
    "plt.figure(figsize=(12, 5))\n",
    "plt.title('fitted price vs resids')\n",
    "plt.scatter(res.fittedvalues, res.resid, c=\"g\", alpha=0.5, label=\"OLS model\")\n",
    "b, m = polyfit(res.fittedvalues, res.resid, 1)\n",
    "plt.plot(res.fittedvalues, b + m * res.fittedvalues, '-')\n",
    "plt.xlabel(\"\")\n",
    "plt.ylabel(\"\")\n",
    "plt.legend(loc=2)"
   ]
  },
  {
   "cell_type": "markdown",
   "metadata": {},
   "source": [
    "### Correlation between residuals and $\\hat y$\n",
    "\n",
    "In a good model, residuals cannot be correlated to the fitted values. "
   ]
  },
  {
   "cell_type": "code",
   "execution_count": 17,
   "metadata": {},
   "outputs": [
    {
     "data": {
      "text/plain": [
       "(8.134968393358477e-13, 0.9999999999497379)"
      ]
     },
     "execution_count": 17,
     "metadata": {},
     "output_type": "execute_result"
    }
   ],
   "source": [
    "from scipy.stats.stats import pearsonr\n",
    "pearsonr(res.predict(X_train), res.resid)"
   ]
  },
  {
   "cell_type": "markdown",
   "metadata": {},
   "source": [
    "### Test for normality"
   ]
  },
  {
   "cell_type": "code",
   "execution_count": 18,
   "metadata": {},
   "outputs": [
    {
     "name": "stderr",
     "output_type": "stream",
     "text": [
      "C:\\Users\\BJ571WQ\\Anaconda3\\lib\\site-packages\\scipy\\stats\\morestats.py:1676: UserWarning: p-value may not be accurate for N > 5000.\n",
      "  warnings.warn(\"p-value may not be accurate for N > 5000.\")\n"
     ]
    },
    {
     "data": {
      "text/plain": [
       "(0.9971299767494202, 2.398374832068839e-10)"
      ]
     },
     "execution_count": 18,
     "metadata": {},
     "output_type": "execute_result"
    }
   ],
   "source": [
    "import scipy.stats as st\n",
    "st.shapiro(res.resid)"
   ]
  },
  {
   "cell_type": "code",
   "execution_count": 19,
   "metadata": {},
   "outputs": [
    {
     "data": {
      "image/png": "[encoded data removed]",
      "text/plain": [
       "<Figure size 432x288 with 1 Axes>"
      ]
     },
     "metadata": {
      "needs_background": "light"
     },
     "output_type": "display_data"
    }
   ],
   "source": [
    "from statsmodels.graphics.gofplots import qqplot\n",
    "\n",
    "qqplot(res.resid, line='s');"
   ]
  }
 ],
 "metadata": {
  "kernelspec": {
   "display_name": "Python 3",
   "language": "python",
   "name": "python3"
  },
  "language_info": {
   "codemirror_mode": {
    "name": "ipython",
    "version": 3
   },
   "file_extension": ".py",
   "mimetype": "text/x-python",
   "name": "python",
   "nbconvert_exporter": "python",
   "pygments_lexer": "ipython3",
   "version": "3.7.6"
  }
 },
 "nbformat": 4,
 "nbformat_minor": 2
}
