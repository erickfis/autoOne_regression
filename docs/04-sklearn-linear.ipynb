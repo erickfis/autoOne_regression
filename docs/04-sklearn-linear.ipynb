{
 "cells": [
  {
   "cell_type": "markdown",
   "metadata": {},
   "source": [
    "# Modeling with linear regression\n",
    "\n",
    "In this section, we will cover:\n",
    "\n",
    "- fitting different linear repression models\n",
    "- score analysis: MSE and variance explained: $R^2$\n",
    "- residual analysis\n",
    "- analysis of fitted values distribution\n",
    "- most important features\n",
    "- comparing the models: conclusions\n"
   ]
  },
  {
   "cell_type": "code",
   "execution_count": 1,
   "metadata": {},
   "outputs": [],
   "source": [
    "import pandas as pd\n",
    "import numpy as np"
   ]
  },
  {
   "cell_type": "code",
   "execution_count": 2,
   "metadata": {},
   "outputs": [
    {
     "data": {
      "text/html": [
       "<div>\n",
       "<style scoped>\n",
       "    .dataframe tbody tr th:only-of-type {\n",
       "        vertical-align: middle;\n",
       "    }\n",
       "\n",
       "    .dataframe tbody tr th {\n",
       "        vertical-align: top;\n",
       "    }\n",
       "\n",
       "    .dataframe thead th {\n",
       "        text-align: right;\n",
       "    }\n",
       "</style>\n",
       "<table border=\"1\" class=\"dataframe\">\n",
       "  <thead>\n",
       "    <tr style=\"text-align: right;\">\n",
       "      <th></th>\n",
       "      <th>symboling</th>\n",
       "      <th>make</th>\n",
       "      <th>fuel_type</th>\n",
       "      <th>aspiration</th>\n",
       "      <th>num_of_doors</th>\n",
       "      <th>body_style</th>\n",
       "      <th>drive_wheels</th>\n",
       "      <th>engine_location</th>\n",
       "      <th>wheel_base</th>\n",
       "      <th>length</th>\n",
       "      <th>...</th>\n",
       "      <th>engine_size</th>\n",
       "      <th>fuel_system</th>\n",
       "      <th>bore</th>\n",
       "      <th>stroke</th>\n",
       "      <th>compression_ratio</th>\n",
       "      <th>horsepower</th>\n",
       "      <th>peak_rpm</th>\n",
       "      <th>city_mpg</th>\n",
       "      <th>highway_mpg</th>\n",
       "      <th>price</th>\n",
       "    </tr>\n",
       "  </thead>\n",
       "  <tbody>\n",
       "    <tr>\n",
       "      <th>0</th>\n",
       "      <td>1</td>\n",
       "      <td>mitsubishi</td>\n",
       "      <td>gas</td>\n",
       "      <td>std</td>\n",
       "      <td>four</td>\n",
       "      <td>sedan</td>\n",
       "      <td>fwd</td>\n",
       "      <td>front</td>\n",
       "      <td>96.3</td>\n",
       "      <td>172.4</td>\n",
       "      <td>...</td>\n",
       "      <td>122</td>\n",
       "      <td>2bbl</td>\n",
       "      <td>3.35</td>\n",
       "      <td>3.46</td>\n",
       "      <td>8.5</td>\n",
       "      <td>88.0</td>\n",
       "      <td>5000.0</td>\n",
       "      <td>25</td>\n",
       "      <td>32</td>\n",
       "      <td>6989.0</td>\n",
       "    </tr>\n",
       "    <tr>\n",
       "      <th>1</th>\n",
       "      <td>2</td>\n",
       "      <td>subaru</td>\n",
       "      <td>gas</td>\n",
       "      <td>std</td>\n",
       "      <td>two</td>\n",
       "      <td>hatchback</td>\n",
       "      <td>fwd</td>\n",
       "      <td>front</td>\n",
       "      <td>93.3</td>\n",
       "      <td>157.3</td>\n",
       "      <td>...</td>\n",
       "      <td>108</td>\n",
       "      <td>2bbl</td>\n",
       "      <td>3.62</td>\n",
       "      <td>2.64</td>\n",
       "      <td>8.7</td>\n",
       "      <td>73.0</td>\n",
       "      <td>4400.0</td>\n",
       "      <td>26</td>\n",
       "      <td>31</td>\n",
       "      <td>7603.0</td>\n",
       "    </tr>\n",
       "    <tr>\n",
       "      <th>2</th>\n",
       "      <td>1</td>\n",
       "      <td>nissan</td>\n",
       "      <td>gas</td>\n",
       "      <td>std</td>\n",
       "      <td>four</td>\n",
       "      <td>wagon</td>\n",
       "      <td>fwd</td>\n",
       "      <td>front</td>\n",
       "      <td>94.5</td>\n",
       "      <td>170.2</td>\n",
       "      <td>...</td>\n",
       "      <td>97</td>\n",
       "      <td>2bbl</td>\n",
       "      <td>3.15</td>\n",
       "      <td>3.29</td>\n",
       "      <td>9.4</td>\n",
       "      <td>69.0</td>\n",
       "      <td>5200.0</td>\n",
       "      <td>31</td>\n",
       "      <td>37</td>\n",
       "      <td>7349.0</td>\n",
       "    </tr>\n",
       "    <tr>\n",
       "      <th>3</th>\n",
       "      <td>0</td>\n",
       "      <td>subaru</td>\n",
       "      <td>gas</td>\n",
       "      <td>std</td>\n",
       "      <td>four</td>\n",
       "      <td>sedan</td>\n",
       "      <td>fwd</td>\n",
       "      <td>front</td>\n",
       "      <td>97.2</td>\n",
       "      <td>172.0</td>\n",
       "      <td>...</td>\n",
       "      <td>108</td>\n",
       "      <td>2bbl</td>\n",
       "      <td>3.62</td>\n",
       "      <td>2.64</td>\n",
       "      <td>9.5</td>\n",
       "      <td>82.0</td>\n",
       "      <td>4800.0</td>\n",
       "      <td>32</td>\n",
       "      <td>37</td>\n",
       "      <td>7126.0</td>\n",
       "    </tr>\n",
       "    <tr>\n",
       "      <th>4</th>\n",
       "      <td>1</td>\n",
       "      <td>dodge</td>\n",
       "      <td>gas</td>\n",
       "      <td>std</td>\n",
       "      <td>four</td>\n",
       "      <td>sedan</td>\n",
       "      <td>fwd</td>\n",
       "      <td>front</td>\n",
       "      <td>93.7</td>\n",
       "      <td>157.3</td>\n",
       "      <td>...</td>\n",
       "      <td>90</td>\n",
       "      <td>2bbl</td>\n",
       "      <td>2.97</td>\n",
       "      <td>3.23</td>\n",
       "      <td>9.4</td>\n",
       "      <td>68.0</td>\n",
       "      <td>5500.0</td>\n",
       "      <td>31</td>\n",
       "      <td>38</td>\n",
       "      <td>7609.0</td>\n",
       "    </tr>\n",
       "  </tbody>\n",
       "</table>\n",
       "<p>5 rows × 25 columns</p>\n",
       "</div>"
      ],
      "text/plain": [
       "   symboling        make fuel_type aspiration num_of_doors body_style  \\\n",
       "0          1  mitsubishi       gas        std         four      sedan   \n",
       "1          2      subaru       gas        std          two  hatchback   \n",
       "2          1      nissan       gas        std         four      wagon   \n",
       "3          0      subaru       gas        std         four      sedan   \n",
       "4          1       dodge       gas        std         four      sedan   \n",
       "\n",
       "  drive_wheels engine_location  wheel_base  length  ...  engine_size  \\\n",
       "0          fwd           front        96.3   172.4  ...          122   \n",
       "1          fwd           front        93.3   157.3  ...          108   \n",
       "2          fwd           front        94.5   170.2  ...           97   \n",
       "3          fwd           front        97.2   172.0  ...          108   \n",
       "4          fwd           front        93.7   157.3  ...           90   \n",
       "\n",
       "   fuel_system  bore stroke compression_ratio  horsepower peak_rpm  city_mpg  \\\n",
       "0         2bbl  3.35   3.46               8.5        88.0   5000.0        25   \n",
       "1         2bbl  3.62   2.64               8.7        73.0   4400.0        26   \n",
       "2         2bbl  3.15   3.29               9.4        69.0   5200.0        31   \n",
       "3         2bbl  3.62   2.64               9.5        82.0   4800.0        32   \n",
       "4         2bbl  2.97   3.23               9.4        68.0   5500.0        31   \n",
       "\n",
       "   highway_mpg   price  \n",
       "0           32  6989.0  \n",
       "1           31  7603.0  \n",
       "2           37  7349.0  \n",
       "3           37  7126.0  \n",
       "4           38  7609.0  \n",
       "\n",
       "[5 rows x 25 columns]"
      ]
     },
     "execution_count": 2,
     "metadata": {},
     "output_type": "execute_result"
    }
   ],
   "source": [
    "df = pd.read_csv('df_resample.csv')\n",
    "df.head()"
   ]
  },
  {
   "cell_type": "code",
   "execution_count": 3,
   "metadata": {},
   "outputs": [],
   "source": [
    "X = df.copy()\n",
    "X.drop('price', axis=1, inplace=True)\n",
    "y = np.log(df.price) # as discussed, we are going to use the log transform here"
   ]
  },
  {
   "cell_type": "markdown",
   "metadata": {},
   "source": [
    "## Train-test split\n",
    "\n",
    "To validate out model, lets split the data on train and test sets, so we can evaluate the predictions on the test set later.\n"
   ]
  },
  {
   "cell_type": "code",
   "execution_count": 4,
   "metadata": {},
   "outputs": [],
   "source": [
    "# now the split in a stratified way\n",
    "from sklearn.model_selection import train_test_split\n",
    "\n",
    "X_train, X_test, y_train, y_test = train_test_split(\n",
    "    X, y, test_size=.3, random_state=95276\n",
    ")"
   ]
  },
  {
   "cell_type": "code",
   "execution_count": 8,
   "metadata": {},
   "outputs": [
    {
     "data": {
      "text/plain": [
       "(7000, 73)"
      ]
     },
     "execution_count": 8,
     "metadata": {},
     "output_type": "execute_result"
    }
   ],
   "source": [
    "from sklearn.preprocessing import OneHotEncoder, StandardScaler\n",
    "import pickle\n",
    "\n",
    "with open('category_list', 'rb') as file:\n",
    "    cat_cols = pickle.load(file)\n",
    "\n",
    "# numeric columns\n",
    "num_cols = [col for col in X_train.columns if col not in cat_cols]\n",
    "\n",
    "# normalize numeric features\n",
    "scaler = StandardScaler()\n",
    "num_scaled = scaler.fit_transform(X_train[num_cols])\n",
    "\n",
    "# encode categories\n",
    "encoder = OneHotEncoder(sparse=False)\n",
    "cat_encoded = encoder.fit_transform(X_train[cat_cols])\n",
    "\n",
    "# all together\n",
    "X_train_proc = np.concatenate([cat_encoded, num_scaled] ,axis=1)\n",
    "X_train_proc.shape"
   ]
  },
  {
   "cell_type": "code",
   "execution_count": 10,
   "metadata": {},
   "outputs": [
    {
     "data": {
      "text/plain": [
       "(3000, 73)"
      ]
     },
     "execution_count": 10,
     "metadata": {},
     "output_type": "execute_result"
    }
   ],
   "source": [
    "# apply transformations on test set\n",
    "num_scaled = scaler.transform(X_test[num_cols])\n",
    "\n",
    "# encode categories\n",
    "cat_encoded = encoder.transform(X_test[cat_cols])\n",
    "\n",
    "# all together\n",
    "X_test_proc = np.concatenate([cat_encoded, num_scaled] ,axis=1)\n",
    "X_test_proc.shape"
   ]
  },
  {
   "cell_type": "markdown",
   "metadata": {},
   "source": [
    "## Regularized models - Sklearn\n",
    "\n",
    "Now lets fit some models that uses regularization for feature selection. \n",
    "\n",
    "Ridge regression uses a penalty L2 factor for the least important regressors. \n",
    "\n",
    "- L2: least squared deviation $resid = \\sum{(y_i - \\hat y_i)^2} + \\lambda \\sum{\\beta^2}$\n",
    "\n",
    "However, the least squares regularization is not robust: it is sensitive to outliers.\n",
    "\n",
    "### Transformation on data\n",
    "\n",
    "Preprocessing will be required here: \n",
    "\n",
    "- feature normalization / scaling"
   ]
  },
  {
   "cell_type": "code",
   "execution_count": null,
   "metadata": {},
   "outputs": [],
   "source": []
  },
  {
   "cell_type": "code",
   "execution_count": 24,
   "metadata": {},
   "outputs": [],
   "source": [
    "from sklearn.model_selection import GridSearchCV\n",
    "from sklearn.metrics import regression\n",
    "import time\n",
    "\n",
    "\n",
    "def make_regressor(model_name, model, grid_params):\n",
    "    start_time = time.time()\n",
    "    grid = GridSearchCV(\n",
    "        model, grid_params,\n",
    "        scoring='neg_mean_squared_error',\n",
    "        n_jobs=-1, cv=3\n",
    "        )\n",
    "    grid.fit(X_train_proc, y_train)\n",
    "    \n",
    "    model = grid.best_estimator_\n",
    "    parameters = model.get_params()\n",
    "\n",
    "    y_predictions = np.exp(model.predict(X_test_proc))\n",
    "    mse = regression.mean_squared_error(np.exp(y_test), y_predictions)\n",
    "    r2 = model.score(X_test_proc, y_test)\n",
    "    end_time = time.time()\n",
    "    elapsed = end_time - start_time\n",
    "\n",
    "    message = f'Score r2: {r2:.4} \\nScore MSE: {mse:.4} \\nTime: {elapsed:.2}s'\n",
    "    print(model_name)\n",
    "    print(message)\n",
    "    print(parameters)\n",
    "    \n",
    "    stats = {\n",
    "        'model name': model_name,\n",
    "        'r2': r2,\n",
    "        'mse': mse,\n",
    "        'parameters': parameters\n",
    "    }\n",
    "    return model, y_predictions, stats"
   ]
  },
  {
   "cell_type": "code",
   "execution_count": 26,
   "metadata": {},
   "outputs": [
    {
     "name": "stdout",
     "output_type": "stream",
     "text": [
      "Linear Regression\n",
      "Score r2: 0.9706 \n",
      "Score MSE: 1.912e+06 \n",
      "Time: 0.17s\n",
      "{'copy_X': True, 'fit_intercept': True, 'n_jobs': None, 'normalize': False}\n"
     ]
    }
   ],
   "source": [
    "from sklearn.linear_model import LinearRegression\n",
    "\n",
    "model = LinearRegression()\n",
    "grid_params = {'fit_intercept': [True, False]}\n",
    "name = 'Linear Regression'\n",
    "\n",
    "linear_results = make_regressor(name, model, grid_params)"
   ]
  },
  {
   "cell_type": "code",
   "execution_count": 30,
   "metadata": {},
   "outputs": [
    {
     "name": "stdout",
     "output_type": "stream",
     "text": [
      "Ridge Regression\n",
      "Score r2: 0.9706 \n",
      "Score MSE: 1.912e+06 \n",
      "Time: 0.16s\n",
      "{'alpha': 0.001, 'copy_X': True, 'fit_intercept': True, 'max_iter': None, 'normalize': False, 'random_state': None, 'solver': 'auto', 'tol': 0.001}\n"
     ]
    }
   ],
   "source": [
    "from sklearn.linear_model import Ridge\n",
    "\n",
    "model = Ridge()\n",
    "grid_params = {'alpha': [.001, .01, .1, 1, 10]}\n",
    "name = 'Ridge Regression'\n",
    "ridge_results = make_regressor(name, model, grid_params)"
   ]
  },
  {
   "cell_type": "markdown",
   "metadata": {},
   "source": [
    "## Regularized models - Lasso\n",
    "\n",
    "Lasso regression uses a stronger penalty for the least important regressors, the L1.\n",
    "\n",
    "That said, lasso will perform feature selection and it is not a stable solution.\n",
    "\n",
    "- L1: least absolute deviation: $resid = \\sum{(y_i - \\hat y_i)^2} + \\lambda \\sum{|\\beta|}$\n",
    "\n"
   ]
  },
  {
   "cell_type": "code",
   "execution_count": 31,
   "metadata": {},
   "outputs": [
    {
     "name": "stdout",
     "output_type": "stream",
     "text": [
      "Lasse Regression\n",
      "Score r2: 0.9619 \n",
      "Score MSE: 2.357e+06 \n",
      "Time: 0.38s\n",
      "{'alpha': 0.001, 'copy_X': True, 'fit_intercept': True, 'max_iter': 1000, 'normalize': False, 'positive': False, 'precompute': False, 'random_state': None, 'selection': 'cyclic', 'tol': 0.0001, 'warm_start': False}\n"
     ]
    }
   ],
   "source": [
    "from sklearn.linear_model import Lasso\n",
    "\n",
    "model = Lasso()\n",
    "grid_params = {'alpha': [.001, .01, .1, 1, 10]}\n",
    "name = 'Lasse Regression'\n",
    "lasso_results = make_regressor(name, model, grid_params)"
   ]
  },
  {
   "cell_type": "markdown",
   "metadata": {},
   "source": [
    "## Huber Regressor\n",
    "\n",
    "Huber uses L2 and L1 penalty. This makes it specially strong against outliers:"
   ]
  },
  {
   "cell_type": "code",
   "execution_count": 33,
   "metadata": {},
   "outputs": [
    {
     "name": "stdout",
     "output_type": "stream",
     "text": [
      "HUbber Regression\n",
      "Score r2: 0.9706 \n",
      "Score MSE: 1.912e+06 \n",
      "Time: 1.4e+02s\n",
      "{'alpha': 0.1, 'epsilon': 5, 'fit_intercept': True, 'max_iter': 1000, 'tol': 1e-05, 'warm_start': False}\n"
     ]
    },
    {
     "name": "stderr",
     "output_type": "stream",
     "text": [
      "C:\\Users\\BJ571WQ\\Anaconda3\\lib\\site-packages\\sklearn\\linear_model\\_huber.py:296: ConvergenceWarning: lbfgs failed to converge (status=1):\n",
      "STOP: TOTAL NO. of ITERATIONS REACHED LIMIT.\n",
      "\n",
      "Increase the number of iterations (max_iter) or scale the data as shown in:\n",
      "    https://scikit-learn.org/stable/modules/preprocessing.html\n",
      "  self.n_iter_ = _check_optimize_result(\"lbfgs\", opt_res, self.max_iter)\n"
     ]
    }
   ],
   "source": [
    "from sklearn.linear_model import HuberRegressor\n",
    "\n",
    "model = HuberRegressor(max_iter=1000)\n",
    "grid_params = {\n",
    "    'alpha': [.001, .01, .1, 1, 10],\n",
    "    'epsilon': [1, 2, 5, 10]\n",
    "}\n",
    "name = 'HUbber Regression'\n",
    "hubber_results = make_regressor(name, model, grid_params)\n"
   ]
  },
  {
   "cell_type": "markdown",
   "metadata": {},
   "source": [
    "## Comparing models - MSE and $R^2$"
   ]
  },
  {
   "cell_type": "code",
   "execution_count": 181,
   "metadata": {},
   "outputs": [
    {
     "data": {
      "text/html": [
       "<div>\n",
       "<style scoped>\n",
       "    .dataframe tbody tr th:only-of-type {\n",
       "        vertical-align: middle;\n",
       "    }\n",
       "\n",
       "    .dataframe tbody tr th {\n",
       "        vertical-align: top;\n",
       "    }\n",
       "\n",
       "    .dataframe thead th {\n",
       "        text-align: right;\n",
       "    }\n",
       "</style>\n",
       "<table border=\"1\" class=\"dataframe\">\n",
       "  <thead>\n",
       "    <tr style=\"text-align: right;\">\n",
       "      <th></th>\n",
       "      <th>model_ols</th>\n",
       "      <th>ridge</th>\n",
       "      <th>lasso</th>\n",
       "      <th>hubber</th>\n",
       "      <th>actual_price</th>\n",
       "    </tr>\n",
       "  </thead>\n",
       "  <tbody>\n",
       "    <tr>\n",
       "      <th>5841</th>\n",
       "      <td>14332.85</td>\n",
       "      <td>14772.02</td>\n",
       "      <td>11567.48</td>\n",
       "      <td>13885.70</td>\n",
       "      <td>15250.0</td>\n",
       "    </tr>\n",
       "    <tr>\n",
       "      <th>7108</th>\n",
       "      <td>6765.94</td>\n",
       "      <td>6603.32</td>\n",
       "      <td>7539.55</td>\n",
       "      <td>6750.47</td>\n",
       "      <td>6649.0</td>\n",
       "    </tr>\n",
       "    <tr>\n",
       "      <th>1383</th>\n",
       "      <td>9401.58</td>\n",
       "      <td>9584.22</td>\n",
       "      <td>10521.32</td>\n",
       "      <td>9511.52</td>\n",
       "      <td>10198.0</td>\n",
       "    </tr>\n",
       "    <tr>\n",
       "      <th>2502</th>\n",
       "      <td>12862.39</td>\n",
       "      <td>12648.45</td>\n",
       "      <td>12439.52</td>\n",
       "      <td>12889.71</td>\n",
       "      <td>13295.0</td>\n",
       "    </tr>\n",
       "    <tr>\n",
       "      <th>2710</th>\n",
       "      <td>11078.97</td>\n",
       "      <td>10924.65</td>\n",
       "      <td>11950.14</td>\n",
       "      <td>11339.05</td>\n",
       "      <td>9639.0</td>\n",
       "    </tr>\n",
       "    <tr>\n",
       "      <th>3047</th>\n",
       "      <td>6041.90</td>\n",
       "      <td>5940.80</td>\n",
       "      <td>7375.22</td>\n",
       "      <td>5500.33</td>\n",
       "      <td>6295.0</td>\n",
       "    </tr>\n",
       "    <tr>\n",
       "      <th>4285</th>\n",
       "      <td>8954.70</td>\n",
       "      <td>9037.73</td>\n",
       "      <td>10059.74</td>\n",
       "      <td>9181.44</td>\n",
       "      <td>9298.0</td>\n",
       "    </tr>\n",
       "    <tr>\n",
       "      <th>9630</th>\n",
       "      <td>6783.83</td>\n",
       "      <td>6872.21</td>\n",
       "      <td>7491.22</td>\n",
       "      <td>6487.58</td>\n",
       "      <td>6575.0</td>\n",
       "    </tr>\n",
       "    <tr>\n",
       "      <th>228</th>\n",
       "      <td>8725.74</td>\n",
       "      <td>8133.58</td>\n",
       "      <td>10736.26</td>\n",
       "      <td>7766.05</td>\n",
       "      <td>8921.0</td>\n",
       "    </tr>\n",
       "    <tr>\n",
       "      <th>8562</th>\n",
       "      <td>8695.72</td>\n",
       "      <td>8609.97</td>\n",
       "      <td>8446.36</td>\n",
       "      <td>8144.22</td>\n",
       "      <td>7995.0</td>\n",
       "    </tr>\n",
       "  </tbody>\n",
       "</table>\n",
       "</div>"
      ],
      "text/plain": [
       "      model_ols     ridge     lasso    hubber  actual_price\n",
       "5841   14332.85  14772.02  11567.48  13885.70       15250.0\n",
       "7108    6765.94   6603.32   7539.55   6750.47        6649.0\n",
       "1383    9401.58   9584.22  10521.32   9511.52       10198.0\n",
       "2502   12862.39  12648.45  12439.52  12889.71       13295.0\n",
       "2710   11078.97  10924.65  11950.14  11339.05        9639.0\n",
       "3047    6041.90   5940.80   7375.22   5500.33        6295.0\n",
       "4285    8954.70   9037.73  10059.74   9181.44        9298.0\n",
       "9630    6783.83   6872.21   7491.22   6487.58        6575.0\n",
       "228     8725.74   8133.58  10736.26   7766.05        8921.0\n",
       "8562    8695.72   8609.97   8446.36   8144.22        7995.0"
      ]
     },
     "execution_count": 181,
     "metadata": {},
     "output_type": "execute_result"
    }
   ],
   "source": [
    "df_comparisson = pd.DataFrame({'model_ols': ols_predictions,\n",
    "                               'ridge': ridge_predictions,\n",
    "                               'lasso': lasso_predictions,\n",
    "                               'hubber': huber_predictions,\n",
    "                              'actual_price': np.exp(y_test)\n",
    "                             })\n",
    "df_comparisson.sample(10).round(2)"
   ]
  },
  {
   "cell_type": "code",
   "execution_count": 182,
   "metadata": {},
   "outputs": [
    {
     "data": {
      "text/html": [
       "<div>\n",
       "<style scoped>\n",
       "    .dataframe tbody tr th:only-of-type {\n",
       "        vertical-align: middle;\n",
       "    }\n",
       "\n",
       "    .dataframe tbody tr th {\n",
       "        vertical-align: top;\n",
       "    }\n",
       "\n",
       "    .dataframe thead th {\n",
       "        text-align: right;\n",
       "    }\n",
       "</style>\n",
       "<table border=\"1\" class=\"dataframe\">\n",
       "  <thead>\n",
       "    <tr style=\"text-align: right;\">\n",
       "      <th></th>\n",
       "      <th>model_ols</th>\n",
       "      <th>ridge</th>\n",
       "      <th>lasso</th>\n",
       "      <th>hubber</th>\n",
       "      <th>actual_price</th>\n",
       "    </tr>\n",
       "  </thead>\n",
       "  <tbody>\n",
       "    <tr>\n",
       "      <th>count</th>\n",
       "      <td>3000.00</td>\n",
       "      <td>3000.00</td>\n",
       "      <td>3000.00</td>\n",
       "      <td>3000.00</td>\n",
       "      <td>3000.00</td>\n",
       "    </tr>\n",
       "    <tr>\n",
       "      <th>mean</th>\n",
       "      <td>13092.66</td>\n",
       "      <td>13095.12</td>\n",
       "      <td>12361.63</td>\n",
       "      <td>13123.65</td>\n",
       "      <td>13152.12</td>\n",
       "    </tr>\n",
       "    <tr>\n",
       "      <th>std</th>\n",
       "      <td>7607.19</td>\n",
       "      <td>7633.48</td>\n",
       "      <td>5216.12</td>\n",
       "      <td>7608.87</td>\n",
       "      <td>7836.94</td>\n",
       "    </tr>\n",
       "    <tr>\n",
       "      <th>min</th>\n",
       "      <td>5151.00</td>\n",
       "      <td>5150.58</td>\n",
       "      <td>5581.04</td>\n",
       "      <td>5249.26</td>\n",
       "      <td>5118.00</td>\n",
       "    </tr>\n",
       "    <tr>\n",
       "      <th>25%</th>\n",
       "      <td>7532.80</td>\n",
       "      <td>7703.26</td>\n",
       "      <td>8474.59</td>\n",
       "      <td>7446.55</td>\n",
       "      <td>7775.00</td>\n",
       "    </tr>\n",
       "    <tr>\n",
       "      <th>50%</th>\n",
       "      <td>10276.94</td>\n",
       "      <td>10254.49</td>\n",
       "      <td>10429.53</td>\n",
       "      <td>10375.00</td>\n",
       "      <td>10198.00</td>\n",
       "    </tr>\n",
       "    <tr>\n",
       "      <th>75%</th>\n",
       "      <td>16030.48</td>\n",
       "      <td>16015.68</td>\n",
       "      <td>15302.30</td>\n",
       "      <td>15618.80</td>\n",
       "      <td>16506.00</td>\n",
       "    </tr>\n",
       "    <tr>\n",
       "      <th>max</th>\n",
       "      <td>42302.85</td>\n",
       "      <td>45603.49</td>\n",
       "      <td>40385.31</td>\n",
       "      <td>44378.04</td>\n",
       "      <td>45400.00</td>\n",
       "    </tr>\n",
       "  </tbody>\n",
       "</table>\n",
       "</div>"
      ],
      "text/plain": [
       "       model_ols     ridge     lasso    hubber  actual_price\n",
       "count    3000.00   3000.00   3000.00   3000.00       3000.00\n",
       "mean    13092.66  13095.12  12361.63  13123.65      13152.12\n",
       "std      7607.19   7633.48   5216.12   7608.87       7836.94\n",
       "min      5151.00   5150.58   5581.04   5249.26       5118.00\n",
       "25%      7532.80   7703.26   8474.59   7446.55       7775.00\n",
       "50%     10276.94  10254.49  10429.53  10375.00      10198.00\n",
       "75%     16030.48  16015.68  15302.30  15618.80      16506.00\n",
       "max     42302.85  45603.49  40385.31  44378.04      45400.00"
      ]
     },
     "execution_count": 182,
     "metadata": {},
     "output_type": "execute_result"
    }
   ],
   "source": [
    "df_comparisson.describe().round(2) # min and max prices are ok"
   ]
  },
  {
   "cell_type": "code",
   "execution_count": 40,
   "metadata": {
    "collapsed": true
   },
   "outputs": [],
   "source": [
    "df_comparisson.to_pickle('df_comparisson.pkl')"
   ]
  },
  {
   "cell_type": "code",
   "execution_count": 183,
   "metadata": {},
   "outputs": [
    {
     "data": {
      "text/html": [
       "<div>\n",
       "<style scoped>\n",
       "    .dataframe tbody tr th:only-of-type {\n",
       "        vertical-align: middle;\n",
       "    }\n",
       "\n",
       "    .dataframe tbody tr th {\n",
       "        vertical-align: top;\n",
       "    }\n",
       "\n",
       "    .dataframe thead th {\n",
       "        text-align: right;\n",
       "    }\n",
       "</style>\n",
       "<table border=\"1\" class=\"dataframe\">\n",
       "  <thead>\n",
       "    <tr style=\"text-align: right;\">\n",
       "      <th></th>\n",
       "      <th>mse</th>\n",
       "      <th>r2</th>\n",
       "    </tr>\n",
       "  </thead>\n",
       "  <tbody>\n",
       "    <tr>\n",
       "      <th>ridge</th>\n",
       "      <td>1.802008e+06</td>\n",
       "      <td>0.9713</td>\n",
       "    </tr>\n",
       "    <tr>\n",
       "      <th>model_ols</th>\n",
       "      <td>1.934713e+06</td>\n",
       "      <td>0.9689</td>\n",
       "    </tr>\n",
       "    <tr>\n",
       "      <th>hubber</th>\n",
       "      <td>3.277986e+06</td>\n",
       "      <td>0.9550</td>\n",
       "    </tr>\n",
       "    <tr>\n",
       "      <th>lasso</th>\n",
       "      <td>1.594458e+07</td>\n",
       "      <td>0.8181</td>\n",
       "    </tr>\n",
       "  </tbody>\n",
       "</table>\n",
       "</div>"
      ],
      "text/plain": [
       "                    mse      r2\n",
       "ridge      1.802008e+06  0.9713\n",
       "model_ols  1.934713e+06  0.9689\n",
       "hubber     3.277986e+06  0.9550\n",
       "lasso      1.594458e+07  0.8181"
      ]
     },
     "execution_count": 183,
     "metadata": {},
     "output_type": "execute_result"
    }
   ],
   "source": [
    "df_scores = pd.DataFrame({'mse': [ols_mse,\n",
    "                     ridge_mse, \n",
    "                     lasso_mse,\n",
    "                     huber_mse],\n",
    "                         'r2': [ols_r2,\n",
    "                     ridge_r2, \n",
    "                     lasso_r2,\n",
    "                     huber_r2]\n",
    "                         },\n",
    "                         index=['model_ols', 'ridge', 'lasso', 'hubber']\n",
    "                        )\n",
    "                        \n",
    "df_scores.sort_values(by='mse').round(4)"
   ]
  },
  {
   "cell_type": "code",
   "execution_count": 42,
   "metadata": {
    "collapsed": true
   },
   "outputs": [],
   "source": [
    "df_scores.to_pickle('df_scores.pkl')"
   ]
  },
  {
   "cell_type": "markdown",
   "metadata": {},
   "source": [
    "## Residual analysis\n",
    "\n",
    "In a good model, what we should expect from the residuals:\n",
    "- their mean should be zero\n",
    "- they should be homoscedastic\n",
    "- they should be normal\n",
    "- they should have no correlation with the fitted values\n",
    "- they should have no correlation with any of the features\n"
   ]
  },
  {
   "cell_type": "markdown",
   "metadata": {},
   "source": [
    "### Residual mean"
   ]
  },
  {
   "cell_type": "code",
   "execution_count": 43,
   "metadata": {},
   "outputs": [
    {
     "data": {
      "text/plain": [
       "-6.615492420253224e-09"
      ]
     },
     "execution_count": 43,
     "metadata": {},
     "output_type": "execute_result"
    }
   ],
   "source": [
    "# OLS\n",
    "model_ols.resid.mean() # good!"
   ]
  },
  {
   "cell_type": "code",
   "execution_count": 44,
   "metadata": {},
   "outputs": [
    {
     "data": {
      "text/plain": [
       "2.7548562759637867e-12"
      ]
     },
     "execution_count": 44,
     "metadata": {},
     "output_type": "execute_result"
    }
   ],
   "source": [
    "# Ridge\n",
    "model_ridge_resids = model_ridge.predict(X_train) - y_train\n",
    "model_ridge_resids.mean() # good!"
   ]
  },
  {
   "cell_type": "code",
   "execution_count": 45,
   "metadata": {},
   "outputs": [
    {
     "data": {
      "text/plain": [
       "-2.898453435496783e-12"
      ]
     },
     "execution_count": 45,
     "metadata": {},
     "output_type": "execute_result"
    }
   ],
   "source": [
    "# Lasso\n",
    "model_lasso_resids = model_lasso.predict(X_train) - y_train\n",
    "model_lasso_resids.mean() # good!"
   ]
  },
  {
   "cell_type": "code",
   "execution_count": 46,
   "metadata": {},
   "outputs": [
    {
     "data": {
      "text/plain": [
       "-84.10494030218992"
      ]
     },
     "execution_count": 46,
     "metadata": {},
     "output_type": "execute_result"
    }
   ],
   "source": [
    "# Huber\n",
    "model_huber_resids = model_huber.predict(X_train) - y_train\n",
    "model_huber_resids.mean() # nope!"
   ]
  },
  {
   "cell_type": "markdown",
   "metadata": {},
   "source": [
    "### Residuals vs fitted values"
   ]
  },
  {
   "cell_type": "code",
   "execution_count": 47,
   "metadata": {},
   "outputs": [
    {
     "data": {
      "image/png": "[encoded data removed]",
      "text/plain": [
       "<matplotlib.figure.Figure at 0x7f25db90be80>"
      ]
     },
     "metadata": {},
     "output_type": "display_data"
    }
   ],
   "source": [
    "from numpy.polynomial.polynomial import polyfit\n",
    "import matplotlib.pyplot as plt\n",
    "\n",
    "%matplotlib inline\n",
    "\n",
    "plt.figure(figsize=(12,10))\n",
    "plt.subplot(2, 2, 1)\n",
    "plt.title('fitted price vs resids for all models')\n",
    "plt.scatter(model_ols.fittedvalues, model_ols.resid, c=\"g\", alpha=0.5, label=\"OLS model\")\n",
    "b, m = polyfit(model_ols.fittedvalues, model_ols.resid, 1)\n",
    "plt.plot(model_ols.fittedvalues, b + m * model_ols.fittedvalues, '-')\n",
    "plt.xlabel(\"\")\n",
    "plt.ylabel(\"\")\n",
    "plt.legend(loc=2)\n",
    "\n",
    "\n",
    "plt.subplot(2, 2, 2)\n",
    "plt.scatter(model_ridge.predict(X_train), model_ridge_resids, c=\"b\", alpha=0.5, label=\"Ridge model\")\n",
    "b, m = polyfit(model_ridge.predict(X_train), model_ridge_resids, 1)\n",
    "plt.plot(model_ridge.predict(X_train), b + m * model_ridge.predict(X_train), '-')\n",
    "plt.xlabel(\"\")\n",
    "plt.ylabel(\"\")\n",
    "plt.legend(loc=2)\n",
    "\n",
    "\n",
    "plt.subplot(2, 2, 3)\n",
    "plt.scatter(model_lasso.predict(X_train), model_lasso_resids, c=\"y\", alpha=0.5, label=\"Lasso model\")\n",
    "b, m = polyfit(model_lasso.predict(X_train), model_lasso_resids, 1)\n",
    "plt.plot(model_lasso.predict(X_train), b + m * model_lasso.predict(X_train), '-')\n",
    "plt.xlabel(\"\")\n",
    "plt.ylabel(\"\")\n",
    "plt.legend(loc=2)\n",
    "\n",
    "\n",
    "plt.subplot(2, 2, 4)\n",
    "plt.scatter(model_huber.predict(X_train), model_huber_resids, c=\"y\", alpha=0.5, label=\"Hubber model\")\n",
    "b, m = polyfit(model_huber.predict(X_train), model_huber_resids, 1)\n",
    "plt.plot(model_huber.predict(X_train), b + m * model_huber.predict(X_train), '-')\n",
    "plt.xlabel(\"\")\n",
    "plt.ylabel(\"\")\n",
    "plt.legend(loc=2)\n",
    "\n",
    "plt.tight_layout()\n",
    "plt.show()\n"
   ]
  },
  {
   "cell_type": "markdown",
   "metadata": {},
   "source": [
    "Huber model residuals seems to have some correlation with $\\hat y$"
   ]
  },
  {
   "cell_type": "code",
   "execution_count": 48,
   "metadata": {},
   "outputs": [
    {
     "data": {
      "text/plain": [
       "(-0.13000205379448529, 3.1774528951646964e-26)"
      ]
     },
     "execution_count": 48,
     "metadata": {},
     "output_type": "execute_result"
    }
   ],
   "source": [
    "from scipy.stats.stats import pearsonr\n",
    "\n",
    "pearsonr(model_huber.predict(X_train), model_huber_resids)"
   ]
  },
  {
   "cell_type": "markdown",
   "metadata": {},
   "source": [
    "Nope, all ok for the Hubber model\n",
    "\n",
    "### Testing residuals for normality\n",
    "\n",
    "The Shapiro's test tests the null hypothesis of normality:\n"
   ]
  },
  {
   "cell_type": "code",
   "execution_count": 49,
   "metadata": {},
   "outputs": [
    {
     "name": "stderr",
     "output_type": "stream",
     "text": [
      "/data/data-erick/anaconda3/lib/python3.6/site-packages/scipy/stats/morestats.py:1326: UserWarning: p-value may not be accurate for N > 5000.\n",
      "  warnings.warn(\"p-value may not be accurate for N > 5000.\")\n"
     ]
    },
    {
     "data": {
      "text/plain": [
       "(0.9467343688011169, 1.2471556332490872e-43)"
      ]
     },
     "execution_count": 49,
     "metadata": {},
     "output_type": "execute_result"
    }
   ],
   "source": [
    "# OLS\n",
    "import scipy.stats as st\n",
    "st.shapiro(model_ols.resid) # not normal!"
   ]
  },
  {
   "cell_type": "code",
   "execution_count": 50,
   "metadata": {},
   "outputs": [
    {
     "name": "stderr",
     "output_type": "stream",
     "text": [
      "/data/data-erick/anaconda3/lib/python3.6/site-packages/scipy/stats/morestats.py:1326: UserWarning: p-value may not be accurate for N > 5000.\n",
      "  warnings.warn(\"p-value may not be accurate for N > 5000.\")\n"
     ]
    },
    {
     "data": {
      "text/plain": [
       "(0.9506106376647949, 1.9632191485190687e-42)"
      ]
     },
     "execution_count": 50,
     "metadata": {},
     "output_type": "execute_result"
    }
   ],
   "source": [
    "# Ridge\n",
    "st.shapiro(model_ridge_resids) # not normal!"
   ]
  },
  {
   "cell_type": "code",
   "execution_count": 51,
   "metadata": {},
   "outputs": [
    {
     "name": "stderr",
     "output_type": "stream",
     "text": [
      "/data/data-erick/anaconda3/lib/python3.6/site-packages/scipy/stats/morestats.py:1326: UserWarning: p-value may not be accurate for N > 5000.\n",
      "  warnings.warn(\"p-value may not be accurate for N > 5000.\")\n"
     ]
    },
    {
     "data": {
      "text/plain": [
       "(0.95025235414505, 1.5105997445421528e-42)"
      ]
     },
     "execution_count": 51,
     "metadata": {},
     "output_type": "execute_result"
    }
   ],
   "source": [
    "# Lasso\n",
    "st.shapiro(model_lasso_resids) # not normal!"
   ]
  },
  {
   "cell_type": "code",
   "execution_count": 52,
   "metadata": {},
   "outputs": [
    {
     "name": "stderr",
     "output_type": "stream",
     "text": [
      "/data/data-erick/anaconda3/lib/python3.6/site-packages/scipy/stats/morestats.py:1326: UserWarning: p-value may not be accurate for N > 5000.\n",
      "  warnings.warn(\"p-value may not be accurate for N > 5000.\")\n"
     ]
    },
    {
     "data": {
      "text/plain": [
       "(0.851108968257904, 0.0)"
      ]
     },
     "execution_count": 52,
     "metadata": {},
     "output_type": "execute_result"
    }
   ],
   "source": [
    "# Hubber\n",
    "st.shapiro(model_huber_resids) # normal ..."
   ]
  },
  {
   "cell_type": "markdown",
   "metadata": {},
   "source": [
    "### Correlation between residuals and features\n",
    "\n",
    "In a good model, residuals cannot be correlated to any feature. \n",
    "\n",
    "Lets check that for the Ridge model:"
   ]
  },
  {
   "cell_type": "code",
   "execution_count": 53,
   "metadata": {},
   "outputs": [
    {
     "name": "stdout",
     "output_type": "stream",
     "text": [
      "wheel_base \n",
      " (-1.4003582859898878e-06, 0.99990933517835479)\n",
      "length \n",
      " (1.756374185852324e-06, 0.99988628451912254)\n",
      "width \n",
      " (-1.2574826827668787e-06, 0.99991858445875048)\n",
      "height \n",
      " (7.8176824156691975e-07, 0.99994938430093361)\n",
      "curb_weight \n",
      " (-3.797454235559836e-06, 0.99975413629064946)\n",
      "engine_size \n",
      " (-3.8471709637247909e-06, 0.99975091772610181)\n",
      "bore \n",
      " (8.9786472595204995e-07, 0.99994186940128194)\n",
      "stroke \n",
      " (4.9476568951461345e-07, 0.99996797328663012)\n",
      "compression_ratio \n",
      " (3.6947997553470614e-06, 0.99976078300490479)\n",
      "horsepower \n",
      " (-2.5938799551408359e-07, 0.9999832064353672)\n",
      "peak_rpm \n",
      " (-9.9613065319792174e-07, 0.99993550850322954)\n",
      "city_mpg \n",
      " (-2.75655220193949e-08, 0.99999819508980514)\n",
      "highway_mpg \n",
      " (-7.8903570714943728e-07, 0.99994891297882671)\n"
     ]
    }
   ],
   "source": [
    "from scipy.stats.stats import pearsonr\n",
    "\n",
    "for feat in num_cols:\n",
    "    print(feat, \"\\n\", pearsonr(X_train_4later[feat], model_ridge_resids))"
   ]
  },
  {
   "cell_type": "markdown",
   "metadata": {},
   "source": [
    "All ok here: there is no correlation between resids and any of the features"
   ]
  },
  {
   "cell_type": "markdown",
   "metadata": {},
   "source": [
    "### Correlation between residuals and $\\hat y$\n",
    "\n",
    "In a good model, residuals cannot be correlated to the fitted values. \n",
    "\n",
    "We have already saw before that the Ridge is ok in his regard:"
   ]
  },
  {
   "cell_type": "code",
   "execution_count": 54,
   "metadata": {},
   "outputs": [
    {
     "data": {
      "text/plain": [
       "(-5.6538446317043605e-05, 0.9963394713107252)"
      ]
     },
     "execution_count": 54,
     "metadata": {},
     "output_type": "execute_result"
    }
   ],
   "source": [
    "from scipy.stats.stats import pearsonr\n",
    "pearsonr(model_ridge.predict(X_train), model_ridge_resids)"
   ]
  },
  {
   "cell_type": "markdown",
   "metadata": {},
   "source": [
    "## Fitted values distribution analysis\n",
    "\n",
    "We expect that the fitted values follows the same distribution of the original prices.\n",
    "\n",
    "### Ridge Model:"
   ]
  },
  {
   "cell_type": "code",
   "execution_count": 55,
   "metadata": {},
   "outputs": [
    {
     "data": {
      "text/plain": [
       "<matplotlib.axes._subplots.AxesSubplot at 0x7f25db5ae940>"
      ]
     },
     "execution_count": 55,
     "metadata": {},
     "output_type": "execute_result"
    },
    {
     "data": {
      "image/png": "[encoded data removed]",
      "text/plain": [
       "<matplotlib.figure.Figure at 0x7f25db90b860>"
      ]
     },
     "metadata": {},
     "output_type": "display_data"
    }
   ],
   "source": [
    "import matplotlib.pyplot as plt\n",
    "\n",
    "fig, (ax, ax2) = plt.subplots(ncols=2, sharey=False)\n",
    "\n",
    "all_prices_pred = model_ridge.predict(X_proc)\n",
    "\n",
    "pd.Series(all_prices_pred).plot(kind='kde', legend=False, ax=ax,  figsize=(14,7), title='fitted y')\n",
    "pd.Series(y).plot(kind='kde', legend=False, figsize=(14,7), title='original y')"
   ]
  },
  {
   "cell_type": "markdown",
   "metadata": {},
   "source": [
    "### OLS Model"
   ]
  },
  {
   "cell_type": "code",
   "execution_count": 56,
   "metadata": {},
   "outputs": [
    {
     "data": {
      "text/plain": [
       "<matplotlib.axes._subplots.AxesSubplot at 0x7f25db4047b8>"
      ]
     },
     "execution_count": 56,
     "metadata": {},
     "output_type": "execute_result"
    },
    {
     "data": {
      "image/png": "[encoded data removed]",
      "text/plain": [
       "<matplotlib.figure.Figure at 0x7f25db51f5c0>"
      ]
     },
     "metadata": {},
     "output_type": "display_data"
    }
   ],
   "source": [
    "import matplotlib.pyplot as plt\n",
    "\n",
    "fig, (ax, ax2) = plt.subplots(ncols=2, sharey=False)\n",
    "\n",
    "all_prices_pred = model_ols.predict(X)\n",
    "\n",
    "pd.Series(all_prices_pred).plot(kind='kde', legend=False, ax=ax,  figsize=(14,7), title='fitted y')\n",
    "pd.Series(y).plot(kind='kde', legend=False, figsize=(14,7), title='original y')"
   ]
  },
  {
   "cell_type": "markdown",
   "metadata": {},
   "source": [
    "## Most important features\n",
    "\n"
   ]
  },
  {
   "cell_type": "markdown",
   "metadata": {},
   "source": [
    "### OLS"
   ]
  },
  {
   "cell_type": "code",
   "execution_count": 57,
   "metadata": {},
   "outputs": [
    {
     "data": {
      "text/html": [
       "<div>\n",
       "<style scoped>\n",
       "    .dataframe tbody tr th:only-of-type {\n",
       "        vertical-align: middle;\n",
       "    }\n",
       "\n",
       "    .dataframe tbody tr th {\n",
       "        vertical-align: top;\n",
       "    }\n",
       "\n",
       "    .dataframe thead th {\n",
       "        text-align: right;\n",
       "    }\n",
       "</style>\n",
       "<table border=\"1\" class=\"dataframe\">\n",
       "  <thead>\n",
       "    <tr style=\"text-align: right;\">\n",
       "      <th></th>\n",
       "      <th>coef_value</th>\n",
       "      <th>coefs_abs</th>\n",
       "      <th>feats</th>\n",
       "    </tr>\n",
       "  </thead>\n",
       "  <tbody>\n",
       "    <tr>\n",
       "      <th>C(fuel_system)[T.idi]</th>\n",
       "      <td>9925.11</td>\n",
       "      <td>9925.11</td>\n",
       "      <td>C(fuel_system)[T.idi]</td>\n",
       "    </tr>\n",
       "    <tr>\n",
       "      <th>C(fuel_system)[T.spfi]</th>\n",
       "      <td>7131.38</td>\n",
       "      <td>7131.38</td>\n",
       "      <td>C(fuel_system)[T.spfi]</td>\n",
       "    </tr>\n",
       "    <tr>\n",
       "      <th>C(make)[T.porsche]</th>\n",
       "      <td>6448.56</td>\n",
       "      <td>6448.56</td>\n",
       "      <td>C(make)[T.porsche]</td>\n",
       "    </tr>\n",
       "    <tr>\n",
       "      <th>Intercept</th>\n",
       "      <td>6340.05</td>\n",
       "      <td>6340.05</td>\n",
       "      <td>Intercept</td>\n",
       "    </tr>\n",
       "    <tr>\n",
       "      <th>C(make)[T.isuzu]</th>\n",
       "      <td>-5859.51</td>\n",
       "      <td>5859.51</td>\n",
       "      <td>C(make)[T.isuzu]</td>\n",
       "    </tr>\n",
       "    <tr>\n",
       "      <th>C(num_of_cylinders)[T.twelve]</th>\n",
       "      <td>-5819.47</td>\n",
       "      <td>5819.47</td>\n",
       "      <td>C(num_of_cylinders)[T.twelve]</td>\n",
       "    </tr>\n",
       "    <tr>\n",
       "      <th>C(make)[T.mercedes-benz]</th>\n",
       "      <td>4860.42</td>\n",
       "      <td>4860.42</td>\n",
       "      <td>C(make)[T.mercedes-benz]</td>\n",
       "    </tr>\n",
       "    <tr>\n",
       "      <th>C(make)[T.plymouth]</th>\n",
       "      <td>-4753.42</td>\n",
       "      <td>4753.42</td>\n",
       "      <td>C(make)[T.plymouth]</td>\n",
       "    </tr>\n",
       "    <tr>\n",
       "      <th>C(make)[T.bmw]</th>\n",
       "      <td>4660.72</td>\n",
       "      <td>4660.72</td>\n",
       "      <td>C(make)[T.bmw]</td>\n",
       "    </tr>\n",
       "    <tr>\n",
       "      <th>C(make)[T.dodge]</th>\n",
       "      <td>-4635.57</td>\n",
       "      <td>4635.57</td>\n",
       "      <td>C(make)[T.dodge]</td>\n",
       "    </tr>\n",
       "  </tbody>\n",
       "</table>\n",
       "</div>"
      ],
      "text/plain": [
       "                               coef_value  coefs_abs  \\\n",
       "C(fuel_system)[T.idi]             9925.11    9925.11   \n",
       "C(fuel_system)[T.spfi]            7131.38    7131.38   \n",
       "C(make)[T.porsche]                6448.56    6448.56   \n",
       "Intercept                         6340.05    6340.05   \n",
       "C(make)[T.isuzu]                 -5859.51    5859.51   \n",
       "C(num_of_cylinders)[T.twelve]    -5819.47    5819.47   \n",
       "C(make)[T.mercedes-benz]          4860.42    4860.42   \n",
       "C(make)[T.plymouth]              -4753.42    4753.42   \n",
       "C(make)[T.bmw]                    4660.72    4660.72   \n",
       "C(make)[T.dodge]                 -4635.57    4635.57   \n",
       "\n",
       "                                                       feats  \n",
       "C(fuel_system)[T.idi]                  C(fuel_system)[T.idi]  \n",
       "C(fuel_system)[T.spfi]                C(fuel_system)[T.spfi]  \n",
       "C(make)[T.porsche]                        C(make)[T.porsche]  \n",
       "Intercept                                          Intercept  \n",
       "C(make)[T.isuzu]                            C(make)[T.isuzu]  \n",
       "C(num_of_cylinders)[T.twelve]  C(num_of_cylinders)[T.twelve]  \n",
       "C(make)[T.mercedes-benz]            C(make)[T.mercedes-benz]  \n",
       "C(make)[T.plymouth]                      C(make)[T.plymouth]  \n",
       "C(make)[T.bmw]                                C(make)[T.bmw]  \n",
       "C(make)[T.dodge]                            C(make)[T.dodge]  "
      ]
     },
     "execution_count": 57,
     "metadata": {},
     "output_type": "execute_result"
    }
   ],
   "source": [
    "index = model_ols.pvalues[model_ols.pvalues<.05].index\n",
    "\n",
    "coefs = model_ols.params[index]\n",
    "\n",
    "df_coef_ols = pd.DataFrame({'coefs_abs': np.abs(np.round(coefs,2)),\n",
    "                            'coef_value': np.round(coefs,2),\n",
    "                            'feats': coefs.index})\n",
    "\n",
    "df_coef_ols[~df_coef_ols.feats.str.startswith('make')].sort_values('coefs_abs', ascending=False).head(10)"
   ]
  },
  {
   "cell_type": "markdown",
   "metadata": {},
   "source": [
    "## Comparing the models - conclusions\n",
    "\n",
    "- residual analysis shows better results for the ols, ridge and lasso models: their residual means are closer to zero (not normal though)\n",
    "- all models have no correlation between fitted values and residuals\n",
    "- MSE analysis shows better results for the Ridge model: smallest MSE\n",
    "- $R^2$ analysis shows better results for the Ridge model\n",
    "- OLS model gets a pretty close score to Ridge but it uses only 20 features, while Ridge uses 24"
   ]
  },
  {
   "cell_type": "code",
   "execution_count": 58,
   "metadata": {
    "scrolled": true
   },
   "outputs": [
    {
     "data": {
      "text/html": [
       "<div>\n",
       "<style scoped>\n",
       "    .dataframe tbody tr th:only-of-type {\n",
       "        vertical-align: middle;\n",
       "    }\n",
       "\n",
       "    .dataframe tbody tr th {\n",
       "        vertical-align: top;\n",
       "    }\n",
       "\n",
       "    .dataframe thead th {\n",
       "        text-align: right;\n",
       "    }\n",
       "</style>\n",
       "<table border=\"1\" class=\"dataframe\">\n",
       "  <thead>\n",
       "    <tr style=\"text-align: right;\">\n",
       "      <th></th>\n",
       "      <th>mse</th>\n",
       "      <th>r2</th>\n",
       "    </tr>\n",
       "  </thead>\n",
       "  <tbody>\n",
       "    <tr>\n",
       "      <th>ridge</th>\n",
       "      <td>2.156401e+06</td>\n",
       "      <td>0.9676</td>\n",
       "    </tr>\n",
       "    <tr>\n",
       "      <th>lasso</th>\n",
       "      <td>2.156436e+06</td>\n",
       "      <td>0.9676</td>\n",
       "    </tr>\n",
       "    <tr>\n",
       "      <th>hubber</th>\n",
       "      <td>2.377322e+06</td>\n",
       "      <td>0.9643</td>\n",
       "    </tr>\n",
       "    <tr>\n",
       "      <th>model_ols</th>\n",
       "      <td>2.774196e+06</td>\n",
       "      <td>0.9579</td>\n",
       "    </tr>\n",
       "  </tbody>\n",
       "</table>\n",
       "</div>"
      ],
      "text/plain": [
       "                    mse      r2\n",
       "ridge      2.156401e+06  0.9676\n",
       "lasso      2.156436e+06  0.9676\n",
       "hubber     2.377322e+06  0.9643\n",
       "model_ols  2.774196e+06  0.9579"
      ]
     },
     "execution_count": 58,
     "metadata": {},
     "output_type": "execute_result"
    }
   ],
   "source": [
    "df_scores.sort_values(by='mse').round(4)"
   ]
  },
  {
   "cell_type": "markdown",
   "metadata": {},
   "source": [
    "Now lets proceed to the next step: machine learning!\n",
    "\n",
    "[back to github](https://github.com/erickfis/Challenges)\n",
    "\n",
    "[erickfis@gmail.com](mailto:erickfis@gmail.com)\n"
   ]
  }
 ],
 "metadata": {
  "kernelspec": {
   "display_name": "Python 3",
   "language": "python",
   "name": "python3"
  },
  "language_info": {
   "codemirror_mode": {
    "name": "ipython",
    "version": 3
   },
   "file_extension": ".py",
   "mimetype": "text/x-python",
   "name": "python",
   "nbconvert_exporter": "python",
   "pygments_lexer": "ipython3",
   "version": "3.7.6"
  }
 },
 "nbformat": 4,
 "nbformat_minor": 2
}
