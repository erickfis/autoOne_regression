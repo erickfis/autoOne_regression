{
 "cells": [
  {
   "cell_type": "markdown",
   "metadata": {},
   "source": [
    "# Linear regression - sklearn\n",
    "\n",
    "In this section, we will cover:\n",
    "\n",
    "- fitting different linear regression models with sklearn\n",
    "- normalization and encoding of features\n",
    "- score analysis: MSE and variance explained: $R^2$\n",
    "- residual analysis\n",
    "- most important features\n",
    "- comparing the models: conclusions\n",
    "\n",
    "\n",
    "## Feature selection\n",
    "\n",
    "This time we will not be manually selecting features. Some sklearn linear regressor models uses regularization, and that should address the lack of feature selection.\n",
    "\n",
    "This has an important consequence, however: we will be using all features, even the ones which are not linearly correlated with the outcome. This means we will be trying to fit a linear model on a case that may be not strictly linear."
   ]
  },
  {
   "cell_type": "code",
   "execution_count": 1,
   "metadata": {},
   "outputs": [
    {
     "data": {
      "text/html": [
       "<div>\n",
       "<style scoped>\n",
       "    .dataframe tbody tr th:only-of-type {\n",
       "        vertical-align: middle;\n",
       "    }\n",
       "\n",
       "    .dataframe tbody tr th {\n",
       "        vertical-align: top;\n",
       "    }\n",
       "\n",
       "    .dataframe thead th {\n",
       "        text-align: right;\n",
       "    }\n",
       "</style>\n",
       "<table border=\"1\" class=\"dataframe\">\n",
       "  <thead>\n",
       "    <tr style=\"text-align: right;\">\n",
       "      <th></th>\n",
       "      <th>symboling</th>\n",
       "      <th>make</th>\n",
       "      <th>fuel_type</th>\n",
       "      <th>aspiration</th>\n",
       "      <th>num_of_doors</th>\n",
       "      <th>body_style</th>\n",
       "      <th>drive_wheels</th>\n",
       "      <th>engine_location</th>\n",
       "      <th>wheel_base</th>\n",
       "      <th>length</th>\n",
       "      <th>...</th>\n",
       "      <th>engine_size</th>\n",
       "      <th>fuel_system</th>\n",
       "      <th>bore</th>\n",
       "      <th>stroke</th>\n",
       "      <th>compression_ratio</th>\n",
       "      <th>horsepower</th>\n",
       "      <th>peak_rpm</th>\n",
       "      <th>city_mpg</th>\n",
       "      <th>highway_mpg</th>\n",
       "      <th>price</th>\n",
       "    </tr>\n",
       "  </thead>\n",
       "  <tbody>\n",
       "    <tr>\n",
       "      <th>0</th>\n",
       "      <td>0</td>\n",
       "      <td>nissan</td>\n",
       "      <td>gas</td>\n",
       "      <td>std</td>\n",
       "      <td>four</td>\n",
       "      <td>sedan</td>\n",
       "      <td>fwd</td>\n",
       "      <td>front</td>\n",
       "      <td>97.2</td>\n",
       "      <td>173.4</td>\n",
       "      <td>...</td>\n",
       "      <td>120</td>\n",
       "      <td>2bbl</td>\n",
       "      <td>3.33</td>\n",
       "      <td>3.47</td>\n",
       "      <td>8.5</td>\n",
       "      <td>97.0</td>\n",
       "      <td>5200.0</td>\n",
       "      <td>27</td>\n",
       "      <td>34</td>\n",
       "      <td>9549.0</td>\n",
       "    </tr>\n",
       "    <tr>\n",
       "      <th>1</th>\n",
       "      <td>3</td>\n",
       "      <td>volkswagen</td>\n",
       "      <td>gas</td>\n",
       "      <td>std</td>\n",
       "      <td>two</td>\n",
       "      <td>hatchback</td>\n",
       "      <td>fwd</td>\n",
       "      <td>front</td>\n",
       "      <td>94.5</td>\n",
       "      <td>165.7</td>\n",
       "      <td>...</td>\n",
       "      <td>109</td>\n",
       "      <td>mpfi</td>\n",
       "      <td>3.19</td>\n",
       "      <td>3.40</td>\n",
       "      <td>8.5</td>\n",
       "      <td>90.0</td>\n",
       "      <td>5500.0</td>\n",
       "      <td>24</td>\n",
       "      <td>29</td>\n",
       "      <td>9980.0</td>\n",
       "    </tr>\n",
       "    <tr>\n",
       "      <th>2</th>\n",
       "      <td>1</td>\n",
       "      <td>bmw</td>\n",
       "      <td>gas</td>\n",
       "      <td>std</td>\n",
       "      <td>four</td>\n",
       "      <td>sedan</td>\n",
       "      <td>rwd</td>\n",
       "      <td>front</td>\n",
       "      <td>103.5</td>\n",
       "      <td>189.0</td>\n",
       "      <td>...</td>\n",
       "      <td>164</td>\n",
       "      <td>mpfi</td>\n",
       "      <td>3.31</td>\n",
       "      <td>3.19</td>\n",
       "      <td>9.0</td>\n",
       "      <td>121.0</td>\n",
       "      <td>4250.0</td>\n",
       "      <td>20</td>\n",
       "      <td>25</td>\n",
       "      <td>24565.0</td>\n",
       "    </tr>\n",
       "    <tr>\n",
       "      <th>3</th>\n",
       "      <td>2</td>\n",
       "      <td>subaru</td>\n",
       "      <td>gas</td>\n",
       "      <td>std</td>\n",
       "      <td>two</td>\n",
       "      <td>hatchback</td>\n",
       "      <td>fwd</td>\n",
       "      <td>front</td>\n",
       "      <td>93.7</td>\n",
       "      <td>156.9</td>\n",
       "      <td>...</td>\n",
       "      <td>97</td>\n",
       "      <td>2bbl</td>\n",
       "      <td>3.62</td>\n",
       "      <td>2.36</td>\n",
       "      <td>9.0</td>\n",
       "      <td>69.0</td>\n",
       "      <td>4900.0</td>\n",
       "      <td>31</td>\n",
       "      <td>36</td>\n",
       "      <td>5118.0</td>\n",
       "    </tr>\n",
       "    <tr>\n",
       "      <th>4</th>\n",
       "      <td>0</td>\n",
       "      <td>mazda</td>\n",
       "      <td>diesel</td>\n",
       "      <td>std</td>\n",
       "      <td>four</td>\n",
       "      <td>sedan</td>\n",
       "      <td>rwd</td>\n",
       "      <td>front</td>\n",
       "      <td>104.9</td>\n",
       "      <td>175.0</td>\n",
       "      <td>...</td>\n",
       "      <td>134</td>\n",
       "      <td>idi</td>\n",
       "      <td>3.43</td>\n",
       "      <td>3.64</td>\n",
       "      <td>22.0</td>\n",
       "      <td>72.0</td>\n",
       "      <td>4200.0</td>\n",
       "      <td>31</td>\n",
       "      <td>39</td>\n",
       "      <td>18344.0</td>\n",
       "    </tr>\n",
       "  </tbody>\n",
       "</table>\n",
       "<p>5 rows × 25 columns</p>\n",
       "</div>"
      ],
      "text/plain": [
       "   symboling        make fuel_type aspiration num_of_doors body_style  \\\n",
       "0          0      nissan       gas        std         four      sedan   \n",
       "1          3  volkswagen       gas        std          two  hatchback   \n",
       "2          1         bmw       gas        std         four      sedan   \n",
       "3          2      subaru       gas        std          two  hatchback   \n",
       "4          0       mazda    diesel        std         four      sedan   \n",
       "\n",
       "  drive_wheels engine_location  wheel_base  length  ...  engine_size  \\\n",
       "0          fwd           front        97.2   173.4  ...          120   \n",
       "1          fwd           front        94.5   165.7  ...          109   \n",
       "2          rwd           front       103.5   189.0  ...          164   \n",
       "3          fwd           front        93.7   156.9  ...           97   \n",
       "4          rwd           front       104.9   175.0  ...          134   \n",
       "\n",
       "   fuel_system  bore stroke compression_ratio  horsepower peak_rpm  city_mpg  \\\n",
       "0         2bbl  3.33   3.47               8.5        97.0   5200.0        27   \n",
       "1         mpfi  3.19   3.40               8.5        90.0   5500.0        24   \n",
       "2         mpfi  3.31   3.19               9.0       121.0   4250.0        20   \n",
       "3         2bbl  3.62   2.36               9.0        69.0   4900.0        31   \n",
       "4          idi  3.43   3.64              22.0        72.0   4200.0        31   \n",
       "\n",
       "   highway_mpg    price  \n",
       "0           34   9549.0  \n",
       "1           29   9980.0  \n",
       "2           25  24565.0  \n",
       "3           36   5118.0  \n",
       "4           39  18344.0  \n",
       "\n",
       "[5 rows x 25 columns]"
      ]
     },
     "execution_count": 1,
     "metadata": {},
     "output_type": "execute_result"
    }
   ],
   "source": [
    "import pandas as pd\n",
    "import numpy as np\n",
    "\n",
    "df = pd.read_csv('data/df_resample.csv')\n",
    "df.head()"
   ]
  },
  {
   "cell_type": "code",
   "execution_count": 2,
   "metadata": {},
   "outputs": [],
   "source": [
    "X = df.copy()\n",
    "X.drop('price', axis=1, inplace=True)\n",
    "y = np.log(df.price) # as discussed, we are going to use the log transform here\n",
    "\n",
    "## Train-test split#\n",
    "from sklearn.model_selection import train_test_split\n",
    "\n",
    "X_train, X_test, y_train, y_test = train_test_split(\n",
    "    X, y, test_size=.3, random_state=95276\n",
    ")"
   ]
  },
  {
   "cell_type": "markdown",
   "metadata": {},
   "source": [
    "\n",
    "## Normalization and encoding of features\n",
    "\n",
    "The range of the numeric features varies a lot for each one of them:\n",
    "\n",
    "- bore range: ~2\n",
    "- curb range: ~3500\n",
    "\n",
    "Also, its easy to see that they are measuring completely different things and therefore are in different scales.\n",
    "\n",
    "In order to properly fit linear regression models with regularization, we must account for those differences.\n",
    "\n",
    "Also, it is import to encode the categories, like fuel-type, so sklearn can use them."
   ]
  },
  {
   "cell_type": "code",
   "execution_count": 3,
   "metadata": {},
   "outputs": [
    {
     "data": {
      "text/plain": [
       "(7000, 73)"
      ]
     },
     "execution_count": 3,
     "metadata": {},
     "output_type": "execute_result"
    }
   ],
   "source": [
    "from sklearn.preprocessing import OneHotEncoder, StandardScaler\n",
    "import pickle\n",
    "\n",
    "with open('data/category_list', 'rb') as file:\n",
    "    cat_cols = pickle.load(file)\n",
    "\n",
    "# numeric columns\n",
    "num_cols = [col for col in X_train.columns if col not in cat_cols]\n",
    "\n",
    "# normalize numeric features\n",
    "scaler = StandardScaler()\n",
    "num_scaled = scaler.fit_transform(X_train[num_cols])\n",
    "\n",
    "# encode categories\n",
    "encoder = OneHotEncoder(sparse=False)\n",
    "cat_encoded = encoder.fit_transform(X_train[cat_cols])\n",
    "\n",
    "# all together\n",
    "X_train_proc = np.concatenate([cat_encoded, num_scaled] ,axis=1)\n",
    "X_train_proc.shape"
   ]
  },
  {
   "cell_type": "code",
   "execution_count": 4,
   "metadata": {},
   "outputs": [
    {
     "data": {
      "text/plain": [
       "(3000, 73)"
      ]
     },
     "execution_count": 4,
     "metadata": {},
     "output_type": "execute_result"
    }
   ],
   "source": [
    "# apply transformations on test set\n",
    "num_scaled = scaler.transform(X_test[num_cols])\n",
    "\n",
    "# encode categories\n",
    "cat_encoded = encoder.transform(X_test[cat_cols])\n",
    "\n",
    "# all together\n",
    "X_test_proc = np.concatenate([cat_encoded, num_scaled] ,axis=1)\n",
    "X_test_proc.shape"
   ]
  },
  {
   "cell_type": "markdown",
   "metadata": {},
   "source": [
    "## Hyper-parameter tuning and Cross Validation\n",
    "\n",
    "It is important to note that we are going to use the gridsearchCV method, so we can iterate over a series of hyper-parameters for each model in order to find the best combination of them through cross validation.\n",
    "\n",
    "## Linear regression model\n",
    "\n",
    "Lets start trying a simple sklearn linear regression model, without regularization.\n",
    "\n",
    "\n"
   ]
  },
  {
   "cell_type": "code",
   "execution_count": 5,
   "metadata": {},
   "outputs": [],
   "source": [
    "%load_ext autoreload\n",
    "%autoreload 2\n",
    "\n",
    "import aux_functions as aux"
   ]
  },
  {
   "cell_type": "code",
   "execution_count": 6,
   "metadata": {},
   "outputs": [
    {
     "name": "stdout",
     "output_type": "stream",
     "text": [
      "Linear Regression\n",
      "Score r2: 0.9707 \n",
      "Score MSE: 2.122e+06 \n",
      "Time: 1.5e+01s\n",
      "{'copy_X': True, 'fit_intercept': False, 'n_jobs': None, 'normalize': False}\n"
     ]
    }
   ],
   "source": [
    "from sklearn.linear_model import LinearRegression\n",
    "\n",
    "model = LinearRegression()\n",
    "grid_params = {'fit_intercept': [True, False]}\n",
    "name = 'Linear Regression'\n",
    "data = (X_train_proc, y_train, X_test_proc, y_test)\n",
    "\n",
    "linear_results = aux.make_regressor(name, model, grid_params, data)"
   ]
  },
  {
   "cell_type": "markdown",
   "metadata": {},
   "source": [
    "## Regularized models - Ridge regularization\n",
    "\n",
    "Ridge regression uses a penalty L2 factor for the least important regressors. \n",
    "\n",
    "- L2: least squared deviation $resid = \\sum{(y_i - \\hat y_i)^2} + \\lambda \\sum{\\beta^2}$\n",
    "\n",
    "However, the least squares regularization is not robust: it is sensitive to outliers."
   ]
  },
  {
   "cell_type": "code",
   "execution_count": 7,
   "metadata": {},
   "outputs": [
    {
     "name": "stdout",
     "output_type": "stream",
     "text": [
      "Ridge Regression\n",
      "Score r2: 0.9707 \n",
      "Score MSE: 2.123e+06 \n",
      "Time: 4.1s\n",
      "{'alpha': 0.01, 'copy_X': True, 'fit_intercept': True, 'max_iter': None, 'normalize': False, 'random_state': None, 'solver': 'auto', 'tol': 0.001}\n"
     ]
    }
   ],
   "source": [
    "from sklearn.linear_model import Ridge\n",
    "\n",
    "model = Ridge()\n",
    "grid_params = {'alpha': [.001, .01, .1, 1]}\n",
    "name = 'Ridge Regression'\n",
    "ridge_results = aux.make_regressor(name, model, grid_params, data)"
   ]
  },
  {
   "cell_type": "markdown",
   "metadata": {},
   "source": [
    "## Regularized models - Lasso\n",
    "\n",
    "Lasso regression uses a stronger penalty for the least important regressors, the L1.\n",
    "\n",
    "That said, lasso will perform feature selection and it is not a stable solution.\n",
    "\n",
    "- L1: least absolute deviation: $resid = \\sum{(y_i - \\hat y_i)^2} + \\lambda \\sum{|\\beta|}$\n",
    "\n"
   ]
  },
  {
   "cell_type": "code",
   "execution_count": 8,
   "metadata": {},
   "outputs": [
    {
     "name": "stdout",
     "output_type": "stream",
     "text": [
      "Lasso Regression\n",
      "Score r2: 0.9599 \n",
      "Score MSE: 2.637e+06 \n",
      "Time: 0.49s\n",
      "{'alpha': 0.001, 'copy_X': True, 'fit_intercept': True, 'max_iter': 1000, 'normalize': False, 'positive': False, 'precompute': False, 'random_state': None, 'selection': 'cyclic', 'tol': 0.0001, 'warm_start': False}\n"
     ]
    }
   ],
   "source": [
    "from sklearn.linear_model import Lasso\n",
    "\n",
    "model = Lasso()\n",
    "grid_params = {'alpha': [.001, .01, .1, 1]}\n",
    "name = 'Lasso Regression'\n",
    "lasso_results = aux.make_regressor(name, model, grid_params, data)"
   ]
  },
  {
   "cell_type": "markdown",
   "metadata": {},
   "source": [
    "## Huber Regressor\n",
    "\n",
    "Huber uses L2 and L1 penalty. This makes it specially strong against outliers:"
   ]
  },
  {
   "cell_type": "code",
   "execution_count": 9,
   "metadata": {},
   "outputs": [
    {
     "name": "stdout",
     "output_type": "stream",
     "text": [
      "HUbber Regression\n",
      "Score r2: 0.9707 \n",
      "Score MSE: 2.123e+06 \n",
      "Time: 6.4e+01s\n",
      "{'alpha': 0.001, 'epsilon': 10, 'fit_intercept': True, 'max_iter': 1000, 'tol': 1e-05, 'warm_start': False}\n"
     ]
    }
   ],
   "source": [
    "from sklearn.linear_model import HuberRegressor\n",
    "\n",
    "model = HuberRegressor(max_iter=1000)\n",
    "grid_params = {\n",
    "    'alpha': [.001, .01, .1],\n",
    "    'epsilon': [1, 5, 10]\n",
    "}\n",
    "name = 'HUbber Regression'\n",
    "hubber_results = aux.make_regressor(name, model, grid_params, data)\n"
   ]
  },
  {
   "cell_type": "markdown",
   "metadata": {},
   "source": [
    "## Comparing models - MSE and $R^2$"
   ]
  },
  {
   "cell_type": "code",
   "execution_count": 10,
   "metadata": {},
   "outputs": [
    {
     "data": {
      "text/html": [
       "<div>\n",
       "<style scoped>\n",
       "    .dataframe tbody tr th:only-of-type {\n",
       "        vertical-align: middle;\n",
       "    }\n",
       "\n",
       "    .dataframe tbody tr th {\n",
       "        vertical-align: top;\n",
       "    }\n",
       "\n",
       "    .dataframe thead th {\n",
       "        text-align: right;\n",
       "    }\n",
       "</style>\n",
       "<table border=\"1\" class=\"dataframe\">\n",
       "  <thead>\n",
       "    <tr style=\"text-align: right;\">\n",
       "      <th></th>\n",
       "      <th>MSE</th>\n",
       "      <th>r2</th>\n",
       "      <th>model name</th>\n",
       "      <th>time</th>\n",
       "    </tr>\n",
       "  </thead>\n",
       "  <tbody>\n",
       "    <tr>\n",
       "      <th>0</th>\n",
       "      <td>2.122211e+06</td>\n",
       "      <td>0.9707</td>\n",
       "      <td>Linear Regression</td>\n",
       "      <td>14.9926</td>\n",
       "    </tr>\n",
       "    <tr>\n",
       "      <th>3</th>\n",
       "      <td>2.123061e+06</td>\n",
       "      <td>0.9707</td>\n",
       "      <td>HUbber Regression</td>\n",
       "      <td>63.8937</td>\n",
       "    </tr>\n",
       "    <tr>\n",
       "      <th>1</th>\n",
       "      <td>2.123265e+06</td>\n",
       "      <td>0.9707</td>\n",
       "      <td>Ridge Regression</td>\n",
       "      <td>4.0631</td>\n",
       "    </tr>\n",
       "    <tr>\n",
       "      <th>0</th>\n",
       "      <td>2.175057e+06</td>\n",
       "      <td>0.9690</td>\n",
       "      <td>ols</td>\n",
       "      <td>0.7920</td>\n",
       "    </tr>\n",
       "    <tr>\n",
       "      <th>2</th>\n",
       "      <td>2.636549e+06</td>\n",
       "      <td>0.9599</td>\n",
       "      <td>Lasso Regression</td>\n",
       "      <td>0.4869</td>\n",
       "    </tr>\n",
       "  </tbody>\n",
       "</table>\n",
       "</div>"
      ],
      "text/plain": [
       "            MSE      r2         model name     time\n",
       "0  2.122211e+06  0.9707  Linear Regression  14.9926\n",
       "3  2.123061e+06  0.9707  HUbber Regression  63.8937\n",
       "1  2.123265e+06  0.9707   Ridge Regression   4.0631\n",
       "0  2.175057e+06  0.9690                ols   0.7920\n",
       "2  2.636549e+06  0.9599   Lasso Regression   0.4869"
      ]
     },
     "execution_count": 10,
     "metadata": {},
     "output_type": "execute_result"
    }
   ],
   "source": [
    "df_scores = pd.DataFrame({\n",
    "    'MSE': [\n",
    "        linear_results[2]['mse'],\n",
    "        ridge_results[2]['mse'],\n",
    "        lasso_results[2]['mse'],\n",
    "        hubber_results[2]['mse'],\n",
    "\n",
    "        ],\n",
    "    'r2': [\n",
    "        linear_results[2]['r2'],\n",
    "        ridge_results[2]['r2'],\n",
    "        lasso_results[2]['r2'],\n",
    "        hubber_results[2]['r2'],\n",
    "        ],\n",
    "    'model name': [\n",
    "        linear_results[2]['model name'],\n",
    "        ridge_results[2]['model name'],\n",
    "        lasso_results[2]['model name'],\n",
    "        hubber_results[2]['model name'],\n",
    "        ],\n",
    "    'time': [\n",
    "        linear_results[2]['time'],\n",
    "        ridge_results[2]['time'],\n",
    "        lasso_results[2]['time'],\n",
    "        hubber_results[2]['time'],\n",
    "        ],\n",
    "    },\n",
    "#     index=['linear', 'ridge', 'lasso', 'hubber']\n",
    ")\n",
    "\n",
    "# load ols results\n",
    "df_scores_ols = pd.read_csv('data/scores.csv')\n",
    "df_scores = pd.concat([df_scores, df_scores_ols], axis=0)\n",
    "df_scores.to_csv('data/sk_scores.csv', index=False)\n",
    "df_scores.sort_values(by='MSE').round(4)"
   ]
  },
  {
   "cell_type": "markdown",
   "metadata": {},
   "source": [
    "## Most important features\n",
    "\n",
    "Lets check what are the most important features, aside from make:"
   ]
  },
  {
   "cell_type": "code",
   "execution_count": 11,
   "metadata": {},
   "outputs": [],
   "source": [
    "model = ridge_results[0]\n",
    "\n",
    "cat_list = []\n",
    "# make is the categories_[0]\n",
    "for item in encoder.categories_[1:]:\n",
    "    for cat in item:\n",
    "        cat_list.append(cat)"
   ]
  },
  {
   "cell_type": "code",
   "execution_count": 12,
   "metadata": {},
   "outputs": [
    {
     "data": {
      "text/plain": [
       "<matplotlib.axes._subplots.AxesSubplot at 0x2340bb71a88>"
      ]
     },
     "execution_count": 12,
     "metadata": {},
     "output_type": "execute_result"
    },
    {
     "data": {
      "image/png": "[encoded data removed]",
      "text/plain": [
       "<Figure size 936x360 with 1 Axes>"
      ]
     },
     "metadata": {
      "needs_background": "light"
     },
     "output_type": "display_data"
    }
   ],
   "source": [
    "features = cat_list + num_cols\n",
    "coefs = model.coef_\n",
    "\n",
    "# coefs 0 to 21 are the make coefs\n",
    "df_features = pd.DataFrame({'feature': features, 'importance': coefs[21:]})\n",
    "(df_features.sort_values(by='importance', ascending=False)\n",
    "    .set_index('feature').head(10)\n",
    "    .plot(kind='bar', figsize=(13, 5), rot=0)\n",
    ")"
   ]
  },
  {
   "cell_type": "markdown",
   "metadata": {},
   "source": [
    "## Comparing the models - conclusions\n",
    "\n",
    "- MSE analysis shows better results for the Linear model: smallest MSE\n",
    "- $R^2$ analysis shows a tie between Ridge and Linear models\n",
    "- Ridge model would be the safest choice: \n",
    "- OLS has a worse performance because it was built on the assumption of a linear phenomena, using only linearly correlated variables."
   ]
  },
  {
   "cell_type": "code",
   "execution_count": 14,
   "metadata": {},
   "outputs": [
    {
     "data": {
      "text/html": [
       "<div>\n",
       "<style scoped>\n",
       "    .dataframe tbody tr th:only-of-type {\n",
       "        vertical-align: middle;\n",
       "    }\n",
       "\n",
       "    .dataframe tbody tr th {\n",
       "        vertical-align: top;\n",
       "    }\n",
       "\n",
       "    .dataframe thead th {\n",
       "        text-align: right;\n",
       "    }\n",
       "</style>\n",
       "<table border=\"1\" class=\"dataframe\">\n",
       "  <thead>\n",
       "    <tr style=\"text-align: right;\">\n",
       "      <th></th>\n",
       "      <th>MSE</th>\n",
       "      <th>r2</th>\n",
       "      <th>model name</th>\n",
       "      <th>time</th>\n",
       "    </tr>\n",
       "  </thead>\n",
       "  <tbody>\n",
       "    <tr>\n",
       "      <th>0</th>\n",
       "      <td>2.122211e+06</td>\n",
       "      <td>0.9707</td>\n",
       "      <td>Linear Regression</td>\n",
       "      <td>14.9926</td>\n",
       "    </tr>\n",
       "    <tr>\n",
       "      <th>3</th>\n",
       "      <td>2.123061e+06</td>\n",
       "      <td>0.9707</td>\n",
       "      <td>HUbber Regression</td>\n",
       "      <td>63.8937</td>\n",
       "    </tr>\n",
       "    <tr>\n",
       "      <th>1</th>\n",
       "      <td>2.123265e+06</td>\n",
       "      <td>0.9707</td>\n",
       "      <td>Ridge Regression</td>\n",
       "      <td>4.0631</td>\n",
       "    </tr>\n",
       "    <tr>\n",
       "      <th>0</th>\n",
       "      <td>2.175057e+06</td>\n",
       "      <td>0.9690</td>\n",
       "      <td>ols</td>\n",
       "      <td>0.7920</td>\n",
       "    </tr>\n",
       "    <tr>\n",
       "      <th>2</th>\n",
       "      <td>2.636549e+06</td>\n",
       "      <td>0.9599</td>\n",
       "      <td>Lasso Regression</td>\n",
       "      <td>0.4869</td>\n",
       "    </tr>\n",
       "  </tbody>\n",
       "</table>\n",
       "</div>"
      ],
      "text/plain": [
       "            MSE      r2         model name     time\n",
       "0  2.122211e+06  0.9707  Linear Regression  14.9926\n",
       "3  2.123061e+06  0.9707  HUbber Regression  63.8937\n",
       "1  2.123265e+06  0.9707   Ridge Regression   4.0631\n",
       "0  2.175057e+06  0.9690                ols   0.7920\n",
       "2  2.636549e+06  0.9599   Lasso Regression   0.4869"
      ]
     },
     "execution_count": 14,
     "metadata": {},
     "output_type": "execute_result"
    }
   ],
   "source": [
    "df_scores.sort_values(by='MSE').round(4)"
   ]
  }
 ],
 "metadata": {
  "kernelspec": {
   "display_name": "Python 3",
   "language": "python",
   "name": "python3"
  },
  "language_info": {
   "codemirror_mode": {
    "name": "ipython",
    "version": 3
   },
   "file_extension": ".py",
   "mimetype": "text/x-python",
   "name": "python",
   "nbconvert_exporter": "python",
   "pygments_lexer": "ipython3",
   "version": "3.7.6"
  }
 },
 "nbformat": 4,
 "nbformat_minor": 2
}
